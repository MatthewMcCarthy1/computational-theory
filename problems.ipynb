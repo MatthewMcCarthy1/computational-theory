{
 "cells": [
  {
   "cell_type": "markdown",
   "id": "1f1b0141",
   "metadata": {},
   "source": [
    "# Computational Theory Assessment"
   ]
  },
  {
   "cell_type": "code",
   "execution_count": null,
   "id": "791e08c0",
   "metadata": {
    "vscode": {
     "languageId": "plaintext"
    }
   },
   "outputs": [],
   "source": [
    "import numpy as np"
   ]
  },
  {
   "cell_type": "markdown",
   "id": "b6474404",
   "metadata": {},
   "source": [
    "## Problem 1: \n"
   ]
  },
  {
   "cell_type": "code",
   "execution_count": null,
   "id": "c7d6c108",
   "metadata": {
    "vscode": {
     "languageId": "plaintext"
    }
   },
   "outputs": [],
   "source": []
  },
  {
   "cell_type": "markdown",
   "id": "d7a6e00c",
   "metadata": {},
   "source": [
    "## Problem 2: "
   ]
  },
  {
   "cell_type": "code",
   "execution_count": null,
   "id": "f06c873f",
   "metadata": {
    "vscode": {
     "languageId": "plaintext"
    }
   },
   "outputs": [],
   "source": []
  },
  {
   "cell_type": "markdown",
   "id": "ee4fdfaf",
   "metadata": {},
   "source": [
    "## Problem 3"
   ]
  },
  {
   "cell_type": "code",
   "execution_count": null,
   "id": "0f61661f",
   "metadata": {
    "vscode": {
     "languageId": "plaintext"
    }
   },
   "outputs": [],
   "source": []
  },
  {
   "cell_type": "markdown",
   "id": "458ff33a",
   "metadata": {},
   "source": [
    "## Problem 4"
   ]
  },
  {
   "cell_type": "code",
   "execution_count": null,
   "id": "3ee60c73",
   "metadata": {
    "vscode": {
     "languageId": "plaintext"
    }
   },
   "outputs": [],
   "source": []
  },
  {
   "cell_type": "markdown",
   "id": "71446198",
   "metadata": {},
   "source": [
    "## Problem 5"
   ]
  },
  {
   "cell_type": "code",
   "execution_count": null,
   "id": "0cea7f11",
   "metadata": {
    "vscode": {
     "languageId": "plaintext"
    }
   },
   "outputs": [],
   "source": []
  },
  {
   "cell_type": "markdown",
   "id": "89c40f9f",
   "metadata": {},
   "source": [
    "## End"
   ]
  }
 ],
 "metadata": {
  "language_info": {
   "name": "python"
  }
 },
 "nbformat": 4,
 "nbformat_minor": 5
}
