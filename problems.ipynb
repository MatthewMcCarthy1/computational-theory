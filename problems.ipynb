{
 "cells": [
  {
   "cell_type": "markdown",
   "id": "1f1b0141",
   "metadata": {},
   "source": [
    "# Computational Theory Assessment\n",
    "---"
   ]
  },
  {
   "cell_type": "code",
   "execution_count": 25,
   "id": "4bcc20f1",
   "metadata": {},
   "outputs": [],
   "source": [
    "# Import necessary libraries\n",
    "import numpy as np"
   ]
  },
  {
   "cell_type": "markdown",
   "id": "b6474404",
   "metadata": {},
   "source": [
    "## Problem 1: Binary Words and Operations\n",
    "\n",
    "### Implement the following functions in Python. Use **NumPy** to ensure that all variables and values are treated as **32-bit integers**. These functions are defined in the **Secure Hash Standard (see page 10)**.\n",
    "\n",
    "1. `Parity(x, y, z)`\n",
    "2. `Ch(x, y, z)`\n",
    "3. `Maj(x, y, z)`\n",
    "4. `Sigma0(x)` - *written as $\\Sigma_0^{256}(x)$ in the standard.*\n",
    "5. `Sigma1(x)` - *written as $\\Sigma_1^{256}(x)$ in the standard.*\n",
    "6. `sigma0(x)` - *written as $\\sigma_0^{256}(x)$ in the standard.*\n",
    "7. `sigma1(x)` - *written as $\\sigma_1^{256}(x)$ in the standard.*\n",
    "\n",
    "### Instructions\n",
    "\n",
    "- Document each function with a clear docstring\n",
    "- Explain its purpose and behaviour in Markdown\n",
    "- Test it with appropriate examples to verify correctness."
   ]
  },
  {
   "cell_type": "markdown",
   "id": "56b1fcb7",
   "metadata": {},
   "source": [
    "### Solution:"
   ]
  },
  {
   "cell_type": "markdown",
   "id": "03e9811c",
   "metadata": {},
   "source": [
    "**1. SHA-1 Parity(x, y, z) Function**\n",
    "\n",
    "The Parity function is a linear bitwise operation used in certain rounds of the SHA-1 hash algorithm (specifically rounds 20-39 and 60-79). It takes three 32-bit integers, which we can call `x`, `y`, and `z`, and combines them by applying the XOR operation to each corresponding bit. \n",
    "\n",
    "$$\n",
    "Parity(x, y, z) = x \\oplus y \\oplus z\n",
    "$$\n",
    "\n",
    "XOR (exclusive OR) works like this: for each bit position, if the number of `1`s in that position across `x`, `y`, and `z` is **odd**, the result bit is `1`. If it is **even**, then the result bit is `0`. \n",
    "\n",
    "This function helps increase **diffusion** in the hash algorithm, meaning that small changes in input spread out and affect many bits in the output. This contributes to the security of SHA-1 by making it more resistant to certain types of cryptographic attacks."
   ]
  },
  {
   "cell_type": "code",
   "execution_count": null,
   "id": "268d3b56",
   "metadata": {},
   "outputs": [],
   "source": [
    "def parity(x: int, y: int, z: int) -> np.uint32:\n",
    "    \"\"\"\n",
    "    Performs a bitwise XOR (parity function) across three 32-bit integers.\n",
    "\n",
    "    This function is used in the SHA-1 algorithm during rounds 20-39 and 60-79.\n",
    "\n",
    "    Parameters:\n",
    "        x (int): The first 32-bit integer.\n",
    "        y (int): The second 32-bit integer.\n",
    "        z (int): The third 32-bit integer.\n",
    "\n",
    "    Returns:\n",
    "        np.uint32: The result of x XOR y XOR z, as a 32-bit unsigned integer.\n",
    "    \"\"\"\n",
    "\n",
    "    # Ensure inputs are treated as 32-bit unsigned integers\n",
    "    x = np.uint32(x)\n",
    "    y = np.uint32(y)\n",
    "    z = np.uint32(z)\n",
    "\n",
    "    # Bitwise XOR operation\n",
    "    return x ^ y ^ z\n"
   ]
  },
  {
   "cell_type": "code",
   "execution_count": null,
   "id": "2a07c130",
   "metadata": {},
   "outputs": [
    {
     "name": "stdout",
     "output_type": "stream",
     "text": [
      "All Parity function test cases passed.\n"
     ]
    }
   ],
   "source": [
    "# Test cases to validate the Parity function\n",
    "def test_parity():\n",
    "    test_cases = [\n",
    "        # Basic tests (decimal)\n",
    "        ((0, 0, 0), 0), \n",
    "        ((1, 0, 0), 1),\n",
    "        ((1, 1, 0), 0),\n",
    "        ((1, 1, 1), 1),\n",
    "\n",
    "        # Bit pattern tests (binary)\n",
    "        ((0b1010, 0b0101, 0b1111), 0b0000),\n",
    "        ((0b1100, 0b0011, 0b0101), 0b1010),\n",
    "        ((0b1111, 0b1111, 0b1111), 0b1111),\n",
    "\n",
    "        # Full 32-bit tests (hex)\n",
    "        ((0xFFFFFFFF, 0x00000000, 0x00000000), 0xFFFFFFFF),\n",
    "        ((0xFFFFFFFF, 0xFFFFFFFF, 0x00000000), 0x00000000),\n",
    "        ((0xFFFFFFFF, 0xFFFFFFFF, 0xFFFFFFFF), 0xFFFFFFFF),\n",
    "        ((0xAAAAAAAA, 0x55555555, 0xFFFFFFFF), 0x00000000),\n",
    "\n",
    "        # Edge cases (hex)\n",
    "        ((0x00000000, 0x00000000, 0x00000000), 0x00000000),\n",
    "        ((0xFFFFFFFF, 0x00000000, 0xFFFFFFFF), 0x00000000),\n",
    "    ]\n",
    "\n",
    "    for (x, y, z), expected in test_cases:\n",
    "        result = parity(x, y, z)\n",
    "        assert result == expected, (\n",
    "            f\"Expected {hex(expected)}, got {hex(result)} \"\n",
    "            f\"for parity({hex(x)}, {hex(y)}, {hex(z)})\"\n",
    "        )\n",
    "\n",
    "    # Final complex value test\n",
    "    x, y, z = 0x12345678, 0x87654321, 0xDEADBEEF\n",
    "    expected = np.uint32(x) ^ np.uint32(y) ^ np.uint32(z)\n",
    "    result = parity(x, y, z)\n",
    "    assert result == expected, (\n",
    "        f\"Expected {hex(expected)}, got {hex(result)} \"\n",
    "        f\"for parity({hex(x)}, {hex(y)}, {hex(z)})\"\n",
    "    )\n",
    "\n",
    "    print(\"All parity function test cases passed.\")\n",
    "\n",
    "test_parity()"
   ]
  },
  {
   "cell_type": "markdown",
   "id": "e417ce90",
   "metadata": {},
   "source": [
    "**2. Ch(x, y, z) Function**\n",
    "\n",
    "The Ch (Choice) function is a nonlinear bitwise operation used in both SHA-1 (specifically in rounds 0-19) and SHA-256 hash algorithms. It takes three 32-bit integers as input: `x`, `y`, and `z`.\n",
    "\n",
    "$$\n",
    "Ch(x, y, z) = (x \\land y) \\oplus (\\lnot x \\land z)\n",
    "$$\n",
    "\n",
    "The Ch function operates as a bit selector or multiplexer:\n",
    "- For each bit position, if the bit in `x` is `1`, the function selects the corresponding bit from `y`\n",
    "- If the bit in `x` is `0`, the function selects the corresponding bit from `z`\n",
    "\n",
    "This provides important **nonlinear mixing** in the hash algorithm. Unlike the Parity function which is linear, the Ch function has nonlinear behavior that strengthens the cryptographic properties of SHA algorithms by making them more resistant to differential cryptanalysis and other attacks.\n",
    "\n",
    "The name \"Ch\" reflects its behavior as a \"chooser\" or \"selector\" between the bits of `y` and `z` based on `x`."
   ]
  },
  {
   "cell_type": "code",
   "execution_count": null,
   "id": "8399ec46",
   "metadata": {},
   "outputs": [],
   "source": [
    "def ch(x: int, y: int, z: int) -> np.uint32:\n",
    "    \"\"\"\n",
    "    Performs the Choice function on three 32-bit integers.\n",
    "    \n",
    "    This function is used in:\n",
    "    - SHA-1 algorithm during rounds 0-19\n",
    "    - SHA-256 algorithm \n",
    "    \n",
    "    Parameters:\n",
    "        x (int): Selector 32-bit integer.\n",
    "        y (int): Bits to be selected when x bit is 1.\n",
    "        z (int): Bits to be selected when x bit is 0.\n",
    "\n",
    "    Returns:\n",
    "        np.uint32: The result of (x & y) ^ (~x & z), as a 32-bit unsigned integer.\n",
    "    \"\"\"\n",
    "    # Ensure inputs are treated as 32-bit unsigned integers\n",
    "    x = np.uint32(x)\n",
    "    y = np.uint32(y)\n",
    "    z = np.uint32(z)\n",
    "\n",
    "    # Bitwise selection using the Choice function\n",
    "    return (x & y) ^ (~x & z)"
   ]
  },
  {
   "cell_type": "code",
   "execution_count": null,
   "id": "72917a17",
   "metadata": {},
   "outputs": [
    {
     "name": "stdout",
     "output_type": "stream",
     "text": [
      "All Ch function test cases passed.\n"
     ]
    }
   ],
   "source": [
    "# Test cases to validate the ch function\n",
    "def test_ch():\n",
    "    test_cases = [\n",
    "        # Basic tests - selector behavior\n",
    "        ((0b0000, 0b0000, 0b0000), 0b0000),\n",
    "        ((0b1111, 0b0000, 0b0000), 0b0000),\n",
    "        ((0b0000, 0b1111, 0b0000), 0b0000),\n",
    "        ((0b0000, 0b0000, 0b1111), 0b1111),\n",
    "        \n",
    "        # Bit selection tests\n",
    "        ((0b1010, 0b1100, 0b0011), 0b1001),\n",
    "        ((0b1100, 0b1111, 0b0000), 0b1100),\n",
    "        \n",
    "        # Full 32-bit tests (hex)\n",
    "        ((0xFFFFFFFF, 0xAAAAAAAA, 0x55555555), 0xAAAAAAAA),\n",
    "        ((0x00000000, 0xAAAAAAAA, 0x55555555), 0x55555555),\n",
    "        ((0xAAAAAAAA, 0xFFFFFFFF, 0x00000000), 0xAAAAAAAA),\n",
    "        \n",
    "        # Edge cases\n",
    "        ((0xFFFFFFFF, 0xFFFFFFFF, 0x00000000), 0xFFFFFFFF),\n",
    "        ((0x00000000, 0xFFFFFFFF, 0x00000000), 0x00000000),\n",
    "    ]\n",
    "    \n",
    "    for (x, y, z), expected in test_cases:\n",
    "        result = ch(x, y, z)\n",
    "        assert result == expected, (\n",
    "            f\"Expected {hex(expected)}, got {hex(result)} \"\n",
    "            f\"for ch({hex(x)}, {hex(y)}, {hex(z)})\"\n",
    "        )\n",
    "    \n",
    "    # Complex value test\n",
    "    x, y, z = 0x12345678, 0x87654321, 0xDEADBEEF\n",
    "    expected = (np.uint32(x) & np.uint32(y)) ^ (~np.uint32(x) & np.uint32(z))\n",
    "    result = ch(x, y, z)\n",
    "    assert result == expected, (\n",
    "        f\"Expected {hex(expected)}, got {hex(result)} \"\n",
    "        f\"for ch({hex(x)}, {hex(y)}, {hex(z)})\"\n",
    "    )\n",
    "    \n",
    "    print(\"All ch function test cases passed.\")\n",
    "\n",
    "# Run the tests\n",
    "test_ch()"
   ]
  },
  {
   "cell_type": "markdown",
   "id": "7e240a39",
   "metadata": {},
   "source": [
    "**3. Maj(x, y, z) Function**\n",
    "\n",
    "The Maj (Majority) function is a nonlinear bitwise operation used in both SHA-1 (specifically rounds 40-59) and SHA-256 hash algorithms. It takes three 32-bit integers as input: `x`, `y`, and `z`.\n",
    "\n",
    "$$\n",
    "Maj(x, y, z) = (x \\land y) \\oplus (x \\land z) \\oplus (y \\land z)\n",
    "$$\n",
    "\n",
    "The Maj function implements a bit-wise majority vote: for each bit position, the output bit is `1` if at least two of the three input bits are `1`, otherwise it is `0`.\n",
    "\n",
    "This function provides nonlinear mixing in the hash algorithm. The majority function is particularly effective at creating avalanche effects where small changes in input bits propagate through the algorithm in complex ways. This property is crucial for the cryptographic strength of SHA algorithms.\n",
    "\n",
    "The name \"Maj\" reflects its behavior as a \"majority\" selector that chooses the most common bit value among the three inputs at each position.\n"
   ]
  },
  {
   "cell_type": "code",
   "execution_count": 30,
   "id": "8564fe30",
   "metadata": {},
   "outputs": [],
   "source": [
    "def Maj(x, y, z):\n",
    "    \"\"\"\n",
    "    Performs the Majority function on three 32-bit integers.\n",
    "    \n",
    "    This function is used in:\n",
    "    - SHA-1 algorithm during rounds 40-59\n",
    "    - SHA-256 algorithm\n",
    "    \n",
    "    Parameters:\n",
    "        - x (int): The first 32-bit integer\n",
    "        - y (int): The second 32-bit integer\n",
    "        - z (int): The third 32-bit integer\n",
    "        \n",
    "    Returns:\n",
    "        np.uint32: The result of (x & y) ^ (x & z) ^ (y & z), as a 32-bit unsigned integer\n",
    "    \"\"\"\n",
    "    # Ensure inputs are treated as 32-bit unsigned integers\n",
    "    x = np.uint32(x)\n",
    "    y = np.uint32(y)\n",
    "    z = np.uint32(z)\n",
    "    \n",
    "    # Calculate and return the Majority function\n",
    "    return (x & y) ^ (x & z) ^ (y & z)  # Bitwise operations for majority selection"
   ]
  },
  {
   "cell_type": "code",
   "execution_count": 31,
   "id": "ec1be37f",
   "metadata": {},
   "outputs": [
    {
     "name": "stdout",
     "output_type": "stream",
     "text": [
      "All Maj function test cases passed.\n"
     ]
    }
   ],
   "source": [
    "# Test cases to validate the Maj function\n",
    "def test_maj():\n",
    "    # Basic tests\n",
    "    assert Maj(0b0000, 0b0000, 0b0000) == 0b0000, \"All zeros\"\n",
    "    assert Maj(0b1111, 0b1111, 0b1111) == 0b1111, \"All ones\"\n",
    "    assert Maj(0b0001, 0b0000, 0b0000) == 0b0000, \"One bit set\"\n",
    "    assert Maj(0b0001, 0b0001, 0b0000) == 0b0001, \"Two bits set\"\n",
    "    assert Maj(0b0001, 0b0001, 0b0001) == 0b0001, \"Three bits set\"\n",
    "    \n",
    "    # Bit pattern tests\n",
    "    assert Maj(0b1010, 0b1100, 0b1001) == 0b1000, \"Mixed patterns\"\n",
    "    assert Maj(0b1111, 0b1111, 0b0000) == 0b1111, \"Two inputs same\"\n",
    "    assert Maj(0b1111, 0b0000, 0b0000) == 0b0000, \"One input different\"\n",
    "    assert Maj(0b1100, 0b1010, 0b1000) == 0b1000, \"No two inputs identical\"\n",
    "    \n",
    "    # Full 32-bit value tests\n",
    "    # Switched to hex notation for better readability with 32-bit values\n",
    "    assert Maj(0xFFFFFFFF, 0xFFFFFFFF, 0x00000000) == 0xFFFFFFFF, \"Two max values\"\n",
    "    assert Maj(0xFFFFFFFF, 0x00000000, 0x00000000) == 0x00000000, \"One max value\"\n",
    "    assert Maj(0xFFFFFFFF, 0xFFFFFFFF, 0xFFFFFFFF) == 0xFFFFFFFF, \"All max values\"\n",
    "    # 0xAAAAAAAA represents 10101010... , 0x55555555 represents 01010101...\n",
    "    assert Maj(0xAAAAAAAA, 0xAAAAAAAA, 0x55555555) == 0xAAAAAAAA, \"Two identical alternating patterns\"\n",
    "    assert Maj(0xAAAAAAAA, 0x55555555, 0xFFFFFFFF) == 0xFFFFFFFF, \"Alternating bits with all ones\"\n",
    "    \n",
    "    # Edge cases\n",
    "    assert Maj(0x00000000, 0x00000000, 0x00000000) == 0x00000000, \"All min values\"\n",
    "    assert Maj(0x00000000, 0x00000000, 0xFFFFFFFF) == 0x00000000, \"Two zeros, one max\"\n",
    "    assert Maj(0xF0F0F0F0, 0x0F0F0F0F, 0xFFFFFFFF) == 0xFFFFFFFF, \"Complementary patterns with all ones\"\n",
    "    assert Maj(0xF0F0F0F0, 0x0F0F0F0F, 0x00000000) == 0x00000000, \"Complementary patterns with all zeros\"\n",
    "    \n",
    "    # This final test uses complex hex values and explicit type conversion to verify\n",
    "    # the function works correctly with arbitrary inputs under the same conditions\n",
    "    x, y, z = 0x12345678, 0x87654321, 0xDEADBEEF\n",
    "    x_uint, y_uint, z_uint = np.uint32(x), np.uint32(y), np.uint32(z)\n",
    "    expected = (x_uint & y_uint) ^ (x_uint & z_uint) ^ (y_uint & z_uint)\n",
    "    assert Maj(x, y, z) == expected, \"Complex values don't match formula\"\n",
    "    \n",
    "    print(\"All Maj function test cases passed.\")\n",
    "\n",
    "# Run the tests\n",
    "test_maj()"
   ]
  },
  {
   "cell_type": "markdown",
   "id": "55efa0b3",
   "metadata": {},
   "source": [
    "---"
   ]
  },
  {
   "cell_type": "markdown",
   "id": "d7a6e00c",
   "metadata": {},
   "source": [
    "## Problem 2: Fractional Parts of Cube Roots\n",
    "\n",
    "### Use **NumPy** to calculate the constants listed at the bottom of **page 11 of the Secure Hash Standard**, following the steps below. These are the **first 32 bits of the fractional parts** of the **cube roots of the first 64 prime numbers**.\n",
    "\n",
    "### Instructions\n",
    "\n",
    "- Write a function called `primes(n)` that generates the first `n` prime numbers.\n",
    "- Use the function to calculate the **cube root** of the first 64 primes.\n",
    "- For each cube root, extract the first thirty-two bits of the fractional part.\n",
    "- Display the result in **hexadecimal**.\n",
    "- Test the results against what is in the Secure Hash Standard."
   ]
  },
  {
   "cell_type": "markdown",
   "id": "2209b6b9",
   "metadata": {},
   "source": [
    "### Solution:"
   ]
  },
  {
   "cell_type": "code",
   "execution_count": null,
   "id": "1a8e22e6",
   "metadata": {},
   "outputs": [],
   "source": []
  },
  {
   "cell_type": "markdown",
   "id": "710293ec",
   "metadata": {},
   "source": [
    "---"
   ]
  },
  {
   "cell_type": "markdown",
   "id": "ee4fdfaf",
   "metadata": {},
   "source": [
    "## Problem 3: Padding\n",
    "\n",
    "### Instructions\n",
    "\n",
    "- Write a generator function `block_parse(msg)` that processes messages according to section 5.1.1 and 5.2.1 of the Secure Hash Standard. \n",
    "- The function should accept a bytes object called `msg`. \n",
    "- At each iteration, it should yield the next 512-bit block of `msg` as a bytes object. \n",
    "- Ensure that the final block (or final two blocks) include the required padding of `msg` as specified in the standard. \n",
    "- Test the generator with messages of different lengths to confirm proper padding and block output."
   ]
  },
  {
   "cell_type": "markdown",
   "id": "caa91303",
   "metadata": {},
   "source": [
    "### Solution:"
   ]
  },
  {
   "cell_type": "code",
   "execution_count": null,
   "id": "28df98da",
   "metadata": {},
   "outputs": [],
   "source": []
  },
  {
   "cell_type": "markdown",
   "id": "e134be75",
   "metadata": {},
   "source": [
    "---"
   ]
  },
  {
   "cell_type": "markdown",
   "id": "458ff33a",
   "metadata": {},
   "source": [
    "## Problem 4: Hashes\n",
    "\n",
    "### Instructions\n",
    "\n",
    "- Write a function `hash(current, block)` that calculates the next hash value given the current hash value and the next message block according to section 6.2.2 SHA-256 Hash Computation on page 22 of the Secure Hash Standard."
   ]
  },
  {
   "cell_type": "markdown",
   "id": "4940a3e3",
   "metadata": {},
   "source": [
    "### Solution:"
   ]
  },
  {
   "cell_type": "code",
   "execution_count": null,
   "id": "66dd1439",
   "metadata": {},
   "outputs": [],
   "source": []
  },
  {
   "cell_type": "markdown",
   "id": "d54d9a80",
   "metadata": {},
   "source": [
    "---"
   ]
  },
  {
   "cell_type": "markdown",
   "id": "71446198",
   "metadata": {},
   "source": [
    "## Problem 5: Passwords\n",
    "\n",
    "### Instructions\n",
    "\n",
    "- The following are the SHA-256 hashes of three common passwords that have been hashed using one pass of the SHA-256 algorithm. \n",
    "- As strings, they were encoded using UTF-8. \n",
    "- Determine the passwords and explain how you found them. \n",
    "- Suggest ways in which the hashing of passwords could be improved to prevent the kind of attack you performed to find the passwords.\n",
    "\n",
    "### SHA-256 hashes \n",
    "1. 5e884898da28047151d0e56f8dc6292773603d0d6aabbdd62a11ef721d1542d8\n",
    "2. 873ac9ffea4dd04fa719e8920cd6938f0c23cd678af330939cff53c3d2855f34\n",
    "3. b03ddf3ca2e714a6548e7495e2a03f5e824eaac9837cd7f159c67b90fb4b7342"
   ]
  },
  {
   "cell_type": "markdown",
   "id": "d5a4502b",
   "metadata": {},
   "source": [
    "### Solution:"
   ]
  },
  {
   "cell_type": "code",
   "execution_count": null,
   "id": "c33a3ec8",
   "metadata": {},
   "outputs": [],
   "source": []
  },
  {
   "cell_type": "markdown",
   "id": "89c40f9f",
   "metadata": {},
   "source": [
    "---\n",
    "# End of Assessment"
   ]
  }
 ],
 "metadata": {
  "kernelspec": {
   "display_name": "Python 3",
   "language": "python",
   "name": "python3"
  },
  "language_info": {
   "codemirror_mode": {
    "name": "ipython",
    "version": 3
   },
   "file_extension": ".py",
   "mimetype": "text/x-python",
   "name": "python",
   "nbconvert_exporter": "python",
   "pygments_lexer": "ipython3",
   "version": "3.12.1"
  }
 },
 "nbformat": 4,
 "nbformat_minor": 5
}
