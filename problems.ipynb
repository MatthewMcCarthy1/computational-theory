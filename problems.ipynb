{
 "cells": [
  {
   "cell_type": "markdown",
   "id": "1f1b0141",
   "metadata": {},
   "source": [
    "# Computational Theory Assessment\n",
    "---"
   ]
  },
  {
   "cell_type": "code",
   "execution_count": 89,
   "id": "4bcc20f1",
   "metadata": {},
   "outputs": [],
   "source": [
    "# Import necessary libraries\n",
    "import numpy as np"
   ]
  },
  {
   "cell_type": "markdown",
   "id": "b6474404",
   "metadata": {},
   "source": [
    "## Problem 1: Binary Words and Operations\n",
    "\n",
    "### Implement the following functions in Python. Use **NumPy** to ensure that all variables and values are treated as **32-bit integers**. These functions are defined in the **Secure Hash Standard (see page 10)**.\n",
    "\n",
    "1. `Parity(x, y, z)`\n",
    "2. `Ch(x, y, z)`\n",
    "3. `Maj(x, y, z)`\n",
    "4. `Sigma0(x)` - *written as $\\Sigma_0^{256}(x)$ in the standard.*\n",
    "5. `Sigma1(x)` - *written as $\\Sigma_1^{256}(x)$ in the standard.*\n",
    "6. `sigma0(x)` - *written as $\\sigma_0^{256}(x)$ in the standard.*\n",
    "7. `sigma1(x)` - *written as $\\sigma_1^{256}(x)$ in the standard.*\n",
    "\n",
    "### Instructions\n",
    "\n",
    "- Document each function with a clear docstring\n",
    "- Explain its purpose and behaviour in Markdown\n",
    "- Test it with appropriate examples to verify correctness."
   ]
  },
  {
   "cell_type": "markdown",
   "id": "56b1fcb7",
   "metadata": {},
   "source": [
    "### Solution:"
   ]
  },
  {
   "cell_type": "markdown",
   "id": "03e9811c",
   "metadata": {},
   "source": [
    "**1. Parity(x, y, z) Function (Used in SHA-1 - deprecated)**\n",
    "\n",
    "The Parity function is a linear bitwise operation used in certain rounds of the SHA-1 hash algorithm (specifically rounds 20-39 and 60-79). It takes three 32-bit words, which we can call `x`, `y`, and `z`, and combines them by applying the XOR operation to each corresponding bit. \n",
    "\n",
    "$$\n",
    "Parity(x, y, z) = x \\oplus y \\oplus z\n",
    "$$\n",
    "\n",
    "XOR (exclusive OR) works like this: for each bit position, if the number of `1`s in that position across `x`, `y`, and `z` is **odd**, the result bit is `1`. If it is **even**, then the result bit is `0`. \n",
    "\n",
    "This function helps increase **diffusion** in the hash algorithm, meaning that small changes in input spread out and affect many bits in the output. This contributes to the security of SHA-1 by making it more resistant to certain types of cryptographic attacks.\n",
    "\n",
    "However, despite these design features, **SHA-1 is no longer considered secure due to successful collision attacks**. A significant milestone was `The SHAppening in 2015`, when researchers demonstrated a practical collision attack on SHA-1 using affordable computing resources. This breakthrough helped accelerate the widespread deprecation of SHA-1.\n",
    "\n",
    "Today, major organizations have phased out SHA-1 in favor of stronger algorithms like SHA-2 and SHA-3, which do not use the Parity function.\n",
    "\n",
    "*Resources:*\n",
    "1. https://nvlpubs.nist.gov/nistpubs/fips/nist.fips.180-4.pdf\n",
    "2. https://en.wikipedia.org/wiki/SHA-1"
   ]
  },
  {
   "cell_type": "code",
   "execution_count": 90,
   "id": "268d3b56",
   "metadata": {},
   "outputs": [],
   "source": [
    "def parity(x: int, y: int, z: int) -> np.uint32:\n",
    "    \"\"\"\n",
    "    Performs a bitwise XOR (parity function) across three 32-bit integers.\n",
    "\n",
    "    This function is used in the SHA-1 algorithm during rounds 20-39 and 60-79.\n",
    "\n",
    "    Parameters:\n",
    "        x (int): The first 32-bit integer.\n",
    "        y (int): The second 32-bit integer.\n",
    "        z (int): The third 32-bit integer.\n",
    "\n",
    "    Returns:\n",
    "        np.uint32: The result of x XOR y XOR z, as a 32-bit unsigned integer.\n",
    "    \"\"\"\n",
    "\n",
    "    # Ensure inputs are treated as 32-bit unsigned integers\n",
    "    x = np.uint32(x)\n",
    "    y = np.uint32(y)\n",
    "    z = np.uint32(z)\n",
    "\n",
    "    return x ^ y ^ z\n"
   ]
  },
  {
   "cell_type": "code",
   "execution_count": 91,
   "id": "2a07c130",
   "metadata": {},
   "outputs": [
    {
     "name": "stdout",
     "output_type": "stream",
     "text": [
      "All parity function test cases passed.\n"
     ]
    }
   ],
   "source": [
    "# Test cases to validate the Parity function\n",
    "def test_parity():\n",
    "    test_cases = [\n",
    "        # Basic tests (decimal)\n",
    "        ((0, 0, 0), 0), \n",
    "        ((1, 0, 0), 1),\n",
    "        ((1, 1, 0), 0),\n",
    "        ((1, 1, 1), 1),\n",
    "\n",
    "        # Bit pattern tests (binary)\n",
    "        ((0b1010, 0b0101, 0b1111), 0b0000),\n",
    "        ((0b1100, 0b0011, 0b0101), 0b1010),\n",
    "        ((0b1111, 0b1111, 0b1111), 0b1111),\n",
    "\n",
    "        # Full 32-bit tests (hex)\n",
    "        ((0xFFFFFFFF, 0x00000000, 0x00000000), 0xFFFFFFFF),\n",
    "        ((0xFFFFFFFF, 0xFFFFFFFF, 0x00000000), 0x00000000),\n",
    "        ((0xFFFFFFFF, 0xFFFFFFFF, 0xFFFFFFFF), 0xFFFFFFFF),\n",
    "        ((0xAAAAAAAA, 0x55555555, 0xFFFFFFFF), 0x00000000),\n",
    "\n",
    "        # Edge cases (hex)\n",
    "        ((0x00000000, 0x00000000, 0x00000000), 0x00000000),\n",
    "    ]\n",
    "\n",
    "    for (x, y, z), expected in test_cases:\n",
    "        result = parity(x, y, z)\n",
    "        assert result == expected, (\n",
    "            f\"Expected {hex(expected)}, got {hex(result)} \"\n",
    "            f\"for parity({hex(x)}, {hex(y)}, {hex(z)})\"\n",
    "        )\n",
    "\n",
    "    # Final complex value test\n",
    "    x, y, z = 0x12345678, 0x87654321, 0xDEADBEEF\n",
    "    expected = np.uint32(x) ^ np.uint32(y) ^ np.uint32(z)\n",
    "    result = parity(x, y, z)\n",
    "    assert result == expected, (\n",
    "        f\"Expected {hex(expected)}, got {hex(result)} \"\n",
    "        f\"for parity({hex(x)}, {hex(y)}, {hex(z)})\"\n",
    "    )\n",
    "\n",
    "    print(\"All parity function test cases passed.\")\n",
    "\n",
    "test_parity()"
   ]
  },
  {
   "cell_type": "markdown",
   "id": "e417ce90",
   "metadata": {},
   "source": [
    "**2. Ch(x, y, z) Function (Used in SHA-1 and all SHA-2 variants)**\n",
    "\n",
    "The Ch (Choice) function is a nonlinear bitwise operation used in both SHA-1 (specifically in rounds 0-19) and all SHA-2 variants. It takes three 32-bit (or 64-bit, depending on the SHA-2 variant) words as input: `x`, `y`, and `z`.\n",
    "\n",
    "$$\n",
    "Ch(x, y, z) = (x \\land y) \\oplus (\\lnot x \\land z)\n",
    "$$\n",
    "\n",
    "The Ch function operates as a bit selector or multiplexer:\n",
    "- For each bit position, if the bit in `x` is `1`, the function selects the corresponding bit from `y`\n",
    "- If the bit in `x` is `0`, the function selects the corresponding bit from `z`\n",
    "\n",
    "This provides important **nonlinear mixing** in the hash algorithm. Unlike the Parity function which is linear, the Ch function has nonlinear behavior that strengthens the cryptographic properties of SHA algorithms by making them more resistant to differential cryptanalysis and other attacks.\n",
    "\n",
    "Although **SHA-1 is deprecated** due to proven collision vulnerabilities, the `Ch` function remains an essential part of **SHA-2**, which is still considered secure and widely used today.\n",
    "\n",
    "The name \"Ch\" reflects its behavior as a \"chooser\" or \"selector\" between the bits of `y` and `z` based on `x`."
   ]
  },
  {
   "cell_type": "code",
   "execution_count": 92,
   "id": "8399ec46",
   "metadata": {},
   "outputs": [],
   "source": [
    "def ch(x: int, y: int, z: int) -> np.uint32:\n",
    "    \"\"\"\n",
    "    Performs the Choice function on three 32-bit integers.\n",
    "    \n",
    "    This function is used in:\n",
    "    - SHA-1 algorithm during rounds 0-19 \n",
    "    - All SHA-2 variants\n",
    "    \n",
    "    Parameters:\n",
    "        x (int): Selector 32-bit integer.\n",
    "        y (int): Bits to be selected when x bit is 1.\n",
    "        z (int): Bits to be selected when x bit is 0.\n",
    "\n",
    "    Returns:\n",
    "        np.uint32: The result of (x & y) ^ (~x & z), as a 32-bit unsigned integer.\n",
    "    \"\"\"\n",
    "    # Ensure inputs are treated as 32-bit unsigned integers\n",
    "    x = np.uint32(x)\n",
    "    y = np.uint32(y)\n",
    "    z = np.uint32(z)\n",
    "\n",
    "    return (x & y) ^ (~x & z)"
   ]
  },
  {
   "cell_type": "code",
   "execution_count": 93,
   "id": "72917a17",
   "metadata": {},
   "outputs": [
    {
     "name": "stdout",
     "output_type": "stream",
     "text": [
      "All ch function test cases passed.\n"
     ]
    }
   ],
   "source": [
    "# Test cases to validate the ch function\n",
    "def test_ch():\n",
    "    test_cases = [\n",
    "        # Basic tests (decimal)\n",
    "        ((0, 0, 0), 0), \n",
    "        ((1, 0, 0), 0),   \n",
    "        ((1, 1, 0), 1),   \n",
    "        ((1, 1, 1), 1),   \n",
    "\n",
    "        # Bit pattern tests (binary)\n",
    "        ((0b1010, 0b0101, 0b1111), 0b0101),  \n",
    "        ((0b1100, 0b0011, 0b0101), 0b0001),  \n",
    "        ((0b1111, 0b1111, 0b1111), 0b1111),  \n",
    "\n",
    "        # Full 32-bit tests (hex)\n",
    "        ((0xFFFFFFFF, 0xAAAAAAAA, 0x55555555), 0xAAAAAAAA),\n",
    "        ((0x00000000, 0xAAAAAAAA, 0x55555555), 0x55555555),\n",
    "        ((0xAAAAAAAA, 0xFFFFFFFF, 0x00000000), 0xAAAAAAAA),\n",
    "\n",
    "        # Edge cases (hex)\n",
    "        ((0x00000000, 0x00000000, 0x00000000), 0x00000000),\n",
    "    ]\n",
    "    \n",
    "    for (x, y, z), expected in test_cases:\n",
    "        result = ch(x, y, z)\n",
    "        assert result == expected, (\n",
    "            f\"Expected {hex(expected)}, got {hex(result)} \"\n",
    "            f\"for ch({hex(x)}, {hex(y)}, {hex(z)})\"\n",
    "        )\n",
    "    \n",
    "    # Complex value test\n",
    "    x, y, z = 0x12345678, 0x87654321, 0xDEADBEEF\n",
    "    expected = (np.uint32(x) & np.uint32(y)) ^ (~np.uint32(x) & np.uint32(z))\n",
    "    result = ch(x, y, z)\n",
    "    assert result == expected, (\n",
    "        f\"Expected {hex(expected)}, got {hex(result)} \"\n",
    "        f\"for ch({hex(x)}, {hex(y)}, {hex(z)})\"\n",
    "    )\n",
    "    \n",
    "    print(\"All ch function test cases passed.\")\n",
    "\n",
    "# Run the tests\n",
    "test_ch()"
   ]
  },
  {
   "cell_type": "markdown",
   "id": "7e240a39",
   "metadata": {},
   "source": [
    "**3. Maj(x, y, z) Function (Used in SHA-1 and all SHA-2 variants)**\n",
    "\n",
    "The Maj (Majority) function is a nonlinear bitwise operation used in both SHA-1 (specifically rounds 40-59) and all SHA-2 variants. It takes three 32-bit (or 64-bit, depending on the SHA-2 variant) words as input: `x`, `y`, and `z`.\n",
    "\n",
    "$$\n",
    "Maj(x, y, z) = (x \\land y) \\oplus (x \\land z) \\oplus (y \\land z)\n",
    "$$\n",
    "\n",
    "The Maj function implements a bit-wise majority vote: for each bit position, the output bit is `1` if at least two of the three input bits are `1`, otherwise it is `0`.\n",
    "\n",
    "This function provides important **nonlinear mixing** in the hash algorithm. The majority operation effectively contributes to the avalanche effect, where small changes in input bits cause widespread and complex changes in the output. This property is essential for the cryptographic strength of SHA algorithms.\n",
    "\n",
    "Although **SHA-1 is deprecated** due to collision vulnerabilities, the `Maj` function remains an essential part of **SHA-2**, which is still considered secure and widely used today.\n",
    "\n",
    "The name \"Maj\" reflects its behavior as a \"majority\" selector that chooses the most common bit value among the three inputs at each position.\n"
   ]
  },
  {
   "cell_type": "code",
   "execution_count": 94,
   "id": "8564fe30",
   "metadata": {},
   "outputs": [],
   "source": [
    "def maj(x: int, y: int, z: int) -> np.uint32:\n",
    "    \"\"\"\n",
    "    Performs the Majority function on three 32-bit integers.\n",
    "    \n",
    "    This function is used in:\n",
    "    - SHA-1 algorithm during rounds 40-59\n",
    "    - All SHA-2 variants\n",
    "    \n",
    "    Parameters:\n",
    "        x (int): The first 32-bit integer.\n",
    "        y (int): The second 32-bit integer.\n",
    "        z (int): The third 32-bit integer.\n",
    "\n",
    "    Returns:\n",
    "        np.uint32: The result of (x & y) ^ (x & z) ^ (y & z), as a 32-bit unsigned integer.\n",
    "    \"\"\"\n",
    "    # Ensure inputs are treated as 32-bit unsigned integers\n",
    "    x = np.uint32(x)\n",
    "    y = np.uint32(y)\n",
    "    z = np.uint32(z)\n",
    "    \n",
    "    return (x & y) ^ (x & z) ^ (y & z)  "
   ]
  },
  {
   "cell_type": "code",
   "execution_count": 95,
   "id": "ec1be37f",
   "metadata": {},
   "outputs": [
    {
     "name": "stdout",
     "output_type": "stream",
     "text": [
      "All maj function test cases passed.\n"
     ]
    }
   ],
   "source": [
    "# Test cases to validate the Maj function\n",
    "def test_maj():\n",
    "    test_cases = [\n",
    "        # Basic tests\n",
    "        ((0, 0, 0), 0),\n",
    "        ((1, 0, 0), 0),\n",
    "        ((1, 1, 0), 1),\n",
    "        ((1, 1, 1), 1),\n",
    "\n",
    "        # Bit pattern tests (binary)\n",
    "        ((0b1010, 0b0101, 0b1111), 0b1111),\n",
    "        ((0b1100, 0b0011, 0b0101), 0b0101),\n",
    "        ((0b1111, 0b1111, 0b1111), 0b1111),\n",
    "\n",
    "        # Full 32-bit tests (hex)\n",
    "        ((0xFFFFFFFF, 0x00000000, 0x00000000), 0x00000000),\n",
    "        ((0xFFFFFFFF, 0xFFFFFFFF, 0x00000000), 0xFFFFFFFF),\n",
    "        ((0xFFFFFFFF, 0xFFFFFFFF, 0xFFFFFFFF), 0xFFFFFFFF),\n",
    "        ((0xAAAAAAAA, 0x55555555, 0xFFFFFFFF), 0xFFFFFFFF),\n",
    "\n",
    "        # Edge cases (hex)\n",
    "        ((0x00000000, 0x00000000, 0x00000000), 0x00000000),\n",
    "    ]\n",
    "    \n",
    "    for (x, y, z), expected in test_cases:\n",
    "        result = maj(x, y, z)\n",
    "        assert result == expected, (\n",
    "            f\"Expected {hex(expected)}, got {hex(result)} \"\n",
    "            f\"for maj({hex(x)}, {hex(y)}, {hex(z)})\"\n",
    "        )\n",
    "    \n",
    "    # Complex value test\n",
    "    x, y, z = 0x12345678, 0x87654321, 0xDEADBEEF\n",
    "    expected = (np.uint32(x) & np.uint32(y)) ^ (np.uint32(x) & np.uint32(z)) ^ (np.uint32(y) & np.uint32(z))\n",
    "    result = maj(x, y, z)\n",
    "    assert result == expected, (\n",
    "        f\"Expected {hex(expected)}, got {hex(result)} \"\n",
    "        f\"for maj({hex(x)}, {hex(y)}, {hex(z)})\"\n",
    "    )\n",
    "    \n",
    "    print(\"All maj function test cases passed.\")\n",
    "\n",
    "# Run the tests\n",
    "test_maj()"
   ]
  },
  {
   "cell_type": "markdown",
   "id": "4322d26c",
   "metadata": {},
   "source": [
    "**4. Sigma0(x) Function (Used in SHA-256 and SHA-224)**\n",
    "\n",
    "The `Sigma0(x)` function is a nonlinear bitwise operation used in the SHA-256 and SHA-224 hash algorithms. It takes a single 32-bit word `x` as input.\n",
    "\n",
    "$$\n",
    "\\Sigma_0^{256}(x) = ROTR^2(x) \\oplus ROTR^{13}(x) \\oplus ROTR^{22}(x)\n",
    "$$\n",
    "\n",
    "Where `ROTR^n(x)` represents a circular right rotation of the bits in `x` by `n` positions.\n",
    "\n",
    "The function takes the input 32-bit word `x` and performs three different circular right rotations (by 2, 13, and 22 bits), then combines the results using the XOR operation. \n",
    "\n",
    "This operation provides important **nonlinear diffusion** in the hash algorithm. The combination of different rotation amounts ensures that changes in the input bits propagate widely and unpredictably throughout the output, contributing to the cryptographic strength of SHA-256 and SHA-224.\n"
   ]
  },
  {
   "cell_type": "code",
   "execution_count": 96,
   "id": "628c1a18",
   "metadata": {},
   "outputs": [],
   "source": [
    "def big_sigma0(x: int) -> np.uint32:\n",
    "    \"\"\"\n",
    "    Performs the Σ₀ function on a 32-bit word.\n",
    "\n",
    "    This function is used in:\n",
    "    - The SHA-256 compression function \n",
    "    - The SHA-224 compression function\n",
    "\n",
    "    The operation involves three circular right rotations (ROTR) of the input \n",
    "    word by 2, 13, and 22 bits, followed by a bitwise XOR of the results.\n",
    "\n",
    "    Parameters:\n",
    "        x (int): A 32-bit word.\n",
    "\n",
    "    Returns:\n",
    "        np.uint32: The result of ROTR²(x) ⊕ ROTR¹³(x) ⊕ ROTR²²(x), as a 32-bit unsigned integer.\n",
    "    \"\"\"\n",
    "    x = np.uint32(x)\n",
    "\n",
    "    # Perform the circular right rotations \n",
    "    rotr2 = np.uint32((x >> 2) | (x << 30)) # 32 - 2 = 30\n",
    "    rotr13 = np.uint32((x >> 13) | (x << 19)) # 32 - 13 = 19\n",
    "    rotr22 = np.uint32((x >> 22) | (x << 10)) # 32 - 22 = 10\n",
    "\n",
    "    return rotr2 ^ rotr13 ^ rotr22\n"
   ]
  },
  {
   "cell_type": "code",
   "execution_count": 97,
   "id": "cd365db1",
   "metadata": {},
   "outputs": [
    {
     "name": "stdout",
     "output_type": "stream",
     "text": [
      "All big_sigma0 test cases passed.\n"
     ]
    }
   ],
   "source": [
    "# Test cases to validate the big_sigma0 function\n",
    "def test_big_sigma0():\n",
    "  \n",
    "    test_cases = [\n",
    "        (0x00000000, 0x00000000), \n",
    "        (0xFFFFFFFF, 0xffffffff), \n",
    "        (0x80000000, 0x20040200), \n",
    "        (0x12345678, 0x66146474), \n",
    "    ]\n",
    "\n",
    "    for x, expected in test_cases:\n",
    "        result = big_sigma0(x)\n",
    "        assert result == expected, (\n",
    "            f\"Test failed for input {hex(x)}: \"\n",
    "            f\"expected {hex(expected)}, got {hex(result)}\"\n",
    "        )\n",
    "\n",
    "    print(\"All big_sigma0 test cases passed.\")\n",
    "\n",
    "# Run the test\n",
    "test_big_sigma0()"
   ]
  },
  {
   "cell_type": "markdown",
   "id": "33e7a7e1",
   "metadata": {},
   "source": [
    "**5. Sigma1(x) Function (Used in SHA-256 and SHA-224)**\n",
    "\n",
    "The `Sigma1(x)` function is a nonlinear bitwise operation used in the SHA-256 and SHA-224 hash algorithms. It takes a single 32-bit word `x` as input.\n",
    "\n",
    "$$\n",
    "\\Sigma_1^{256}(x) = ROTR^6(x) \\oplus ROTR^{11}(x) \\oplus ROTR^{25}(x)\n",
    "$$\n",
    "\n",
    "Where `ROTR^n(x)` represents a circular right rotation of the bits in `x` by `n` positions.\n",
    "\n",
    "The function takes the input 32-bit word `x` and performs three different circular right rotations (by 6, 11, and 25 bits), then combines the results using the XOR operation.\n",
    "\n",
    "This operation provides important **nonlinear diffusion** in the hash algorithm. The combination of different rotation amounts ensures that changes in the input bits propagate widely and unpredictably throughout the output, contributing to the cryptographic strength of SHA-256 and SHA-224.\n"
   ]
  },
  {
   "cell_type": "code",
   "execution_count": 98,
   "id": "bef03c4e",
   "metadata": {},
   "outputs": [],
   "source": [
    "def big_sigma1(x: int) -> np.uint32:\n",
    "    \"\"\"\n",
    "    Performs the Σ₁ function on a 32-bit word.\n",
    "\n",
    "    This function is used in:\n",
    "    - The SHA-256 compression function\n",
    "    - The SHA-224 compression function\n",
    "\n",
    "    The operation involves three circular right rotations (ROTR) of the input\n",
    "    word by 6, 11, and 25 bits, followed by a bitwise XOR of the results.\n",
    "\n",
    "    Parameters:\n",
    "        x (int): A 32-bit word.\n",
    "\n",
    "    Returns:\n",
    "        np.uint32: The result of ROTR⁶(x) ⊕ ROTR¹¹(x) ⊕ ROTR²⁵(x), as a 32-bit unsigned integer.\n",
    "    \"\"\"\n",
    "    x = np.uint32(x)\n",
    "\n",
    "    # Perform the circular right rotations\n",
    "    rotr6 = np.uint32((x >> 6) | (x << 26))  # 32 - 6 = 26\n",
    "    rotr11 = np.uint32((x >> 11) | (x << 21))  # 32 - 11 = 21\n",
    "    rotr25 = np.uint32((x >> 25) | (x << 7))  # 32 - 25 = 7\n",
    "\n",
    "    return rotr6 ^ rotr11 ^ rotr25"
   ]
  },
  {
   "cell_type": "code",
   "execution_count": 99,
   "id": "03397382",
   "metadata": {},
   "outputs": [
    {
     "name": "stdout",
     "output_type": "stream",
     "text": [
      "All big_sigma1 test cases passed.\n"
     ]
    }
   ],
   "source": [
    "# Test cases to validate the big_sigma1 function\n",
    "def test_big_sigma1():\n",
    "  \n",
    "    test_cases = [\n",
    "        (0x00000000, 0x00000000), \n",
    "        (0xFFFFFFFF, 0xffffffff), \n",
    "        (0x80000000, 0x2100040), \n",
    "        (0x12345678, 0x3561abda), \n",
    "    ]\n",
    "\n",
    "    for x, expected in test_cases:\n",
    "        result = big_sigma1(x)\n",
    "        assert result == expected, (\n",
    "            f\"Test failed for input {hex(x)}: \"\n",
    "            f\"expected {hex(expected)}, got {hex(result)}\"\n",
    "        )\n",
    "\n",
    "    print(\"All big_sigma1 test cases passed.\")\n",
    "\n",
    "# Run the test\n",
    "test_big_sigma1()"
   ]
  },
  {
   "cell_type": "markdown",
   "id": "92342a76",
   "metadata": {},
   "source": [
    "**6. sigma0(x) Function (Used in SHA-256 and SHA-224)**\n",
    "\n",
    "The `sigma0(x)` function is a nonlinear bitwise operation used in the SHA-256 and SHA-224 hash algorithms. It operates on a single 32-bit word and is used in the message schedule.\n",
    "\n",
    "$$\n",
    "\\sigma_0^{256}(x) = ROTR^7(x) \\oplus ROTR^{18}(x) \\oplus SHR^3(x)\n",
    "$$\n",
    "\n",
    "Where `ROTR^n(x)` represents a circular right rotation of the bits in `x` by `n` positions, and `SHR^n(x)` represents a right shift of `x` by `n` positions (filling with zeros on the left).\n",
    "\n",
    "The function takes the input 32-bit word `x` and performs two circular right rotations (by 7 and 18 bits) and one right shift (by 3 bits), then combines the results using the XOR operation.\n",
    "\n",
    "This function is used in the message schedule expansion (section 6.2.2 of the Secure Hash Standard) in SHA-256 and SHA-224. It provides crucial **nonlinear diffusion** in the algorithm. The combination of rotations and shifts ensures that bit changes propagate throughout the word in complex patterns, contributing to the cryptographic strength of SHA-256.\n"
   ]
  },
  {
   "cell_type": "code",
   "execution_count": 100,
   "id": "56832051",
   "metadata": {},
   "outputs": [],
   "source": [
    "def small_sigma0(x: int) -> np.uint32:\n",
    "    \"\"\"\n",
    "    Performs the σ₀ function on a 32-bit word.\n",
    "\n",
    "    This function is used in the SHA-256 and SHA-224 message schedule expansion.\n",
    "\n",
    "    The function performs two circular right rotations (ROTR) of the input\n",
    "    by 7 and 18 positions, one right shift (SHR) by 3 positions, followed \n",
    "    by a bitwise XOR of the results.\n",
    "    \n",
    "    Parameters:\n",
    "        x (int): A 32-bit word\n",
    "        \n",
    "    Returns:\n",
    "        np.uint32: The result of ROTR⁷(x) ⊕ ROTR¹⁸(x) ⊕ SHR³(x), as a 32-bit unsigned integer\n",
    "    \"\"\"\n",
    "    # Ensure input is treated as a 32-bit unsigned integer\n",
    "    x = np.uint32(x)\n",
    "    \n",
    "    # Perform circular right rotations by 7 and 18 bits\n",
    "    rotr7 = np.uint32((x >> 7) | (x << 25)) # 32 - 7 = 25\n",
    "    rotr18 = np.uint32((x >> 18) | (x << 14)) # 32 - 18 = 14\n",
    "\n",
    "    # Perform right shift by 3 bits\n",
    "    # SHR^n(x) = x >> n (fills with zeros on the left)\n",
    "    shr3 = np.uint32(x >> 3)\n",
    "    \n",
    "    # XOR all three values together\n",
    "    return rotr7 ^ rotr18 ^ shr3\n"
   ]
  },
  {
   "cell_type": "code",
   "execution_count": 101,
   "id": "6f6fc961",
   "metadata": {},
   "outputs": [
    {
     "name": "stdout",
     "output_type": "stream",
     "text": [
      "All small_sigma0 test cases passed.\n"
     ]
    }
   ],
   "source": [
    "# Test cases to validate the small_sigma0 function\n",
    "def test_small_sigma0():\n",
    "  \n",
    "    test_cases = [\n",
    "        (0x00000000, 0x00000000), \n",
    "        (0xFFFFFFFF, 0x1fffffff), \n",
    "        (0x80000000, 0x11002000), \n",
    "        (0x12345678, 0xe7fce6ee), \n",
    "    ]\n",
    "\n",
    "    for x, expected in test_cases:\n",
    "        result = small_sigma0(x)\n",
    "        assert result == expected, (\n",
    "            f\"Test failed for input {hex(x)}: \"\n",
    "            f\"expected {hex(expected)}, got {hex(result)}\"\n",
    "        )\n",
    "\n",
    "    print(\"All small_sigma0 test cases passed.\")\n",
    "\n",
    "# Run the test\n",
    "test_small_sigma0()"
   ]
  },
  {
   "cell_type": "markdown",
   "id": "0c719fec",
   "metadata": {},
   "source": [
    "**7. sigma1(x) Function (Used in SHA-256 and SHA-224**\n",
    "\n",
    "The `sigma1(x)` function is a nonlinear bitwise operation used in the SHA-256 and SHA-224 hash algorithms. It operates on a single 32-bit word and is used in the message schedule.\n",
    "\n",
    "$$\n",
    "\\sigma_1^{256}(x) = ROTR^{17}(x) \\oplus ROTR^{19}(x) \\oplus SHR^{10}(x)\n",
    "$$\n",
    "\n",
    "Where `ROTR^n(x)` represents a circular right rotation of the bits in `x` by `n` positions, and `SHR^n(x)` represents a right shift of `x` by `n` positions (filling with zeros on the left).\n",
    "\n",
    "The function takes the input 32-bit word `x` and performs two circular right rotations (by 17 and 19 bits) and one right shift (by 10 bits), then combines the results using the XOR operation.\n",
    "\n",
    "This function is used in the message schedule expansion (section 6.2.2 of the Secure Hash Standard) in SHA-256 and SHA-224. It provides crucial nonlinear diffusion in the algorithm. The combination of rotations and shifts ensures that bit changes propagate throughout the word in complex patterns, contributing to the cryptographic strength of SHA-256.\n"
   ]
  },
  {
   "cell_type": "code",
   "execution_count": 102,
   "id": "7406209c",
   "metadata": {},
   "outputs": [],
   "source": [
    "def small_sigma1(x: int) -> np.uint32:\n",
    "    \"\"\"\n",
    "    Performs the σ₁ function on a 32-bit word.\n",
    "\n",
    "    This function is used in the SHA-256 and SHA-224 message schedule expansion.\n",
    "\n",
    "    The function performs two circular right rotations (ROTR) of the input\n",
    "    by 17 and 19 positions, one right shift (SHR) by 10 positions, followed \n",
    "    by a bitwise XOR of the results.\n",
    "    \n",
    "    Parameters:\n",
    "        x (int): A 32-bit word\n",
    "        \n",
    "    Returns:\n",
    "        np.uint32: The result of ROTR¹⁷(x) ⊕ ROTR¹⁹(x) ⊕ SHR¹⁰(x), as a 32-bit unsigned integer\n",
    "    \"\"\"\n",
    "    # Ensure input is treated as a 32-bit unsigned integer\n",
    "    x = np.uint32(x)\n",
    "    \n",
    "    # Perform circular right rotations by 17 and 19 bits\n",
    "    rotr17 = np.uint32((x >> 17) | (x << 15)) # 32 - 17 = 15\n",
    "    rotr19 = np.uint32((x >> 19) | (x << 13)) # 32 - 19 = 13\n",
    "\n",
    "    # Perform right shift by 10 bits\n",
    "    # SHR^n(x) = x >> n (fills with zeros on the left)\n",
    "    shr10 = np.uint32(x >> 10)\n",
    "    \n",
    "    # XOR all three values together\n",
    "    return rotr17 ^ rotr19 ^ shr10"
   ]
  },
  {
   "cell_type": "code",
   "execution_count": 103,
   "id": "fd81fa18",
   "metadata": {},
   "outputs": [
    {
     "name": "stdout",
     "output_type": "stream",
     "text": [
      "All small_sigma1 test cases passed.\n"
     ]
    }
   ],
   "source": [
    "# Test cases to validate the small_sigma1 function\n",
    "def test_small_sigma1():\n",
    "  \n",
    "    test_cases = [\n",
    "        (0x00000000, 0x00000000), \n",
    "        (0xFFFFFFFF, 0x003fffff), \n",
    "        (0x80000000, 0x205000), \n",
    "        (0x12345678, 0xa1f78649), \n",
    "    ]\n",
    "\n",
    "    for x, expected in test_cases:\n",
    "        result = small_sigma1(x)\n",
    "        assert result == expected, (\n",
    "            f\"Test failed for input {hex(x)}: \"\n",
    "            f\"expected {hex(expected)}, got {hex(result)}\"\n",
    "        )\n",
    "\n",
    "    print(\"All small_sigma1 test cases passed.\")\n",
    "\n",
    "# Run the test\n",
    "test_small_sigma1()"
   ]
  },
  {
   "cell_type": "markdown",
   "id": "55efa0b3",
   "metadata": {},
   "source": [
    "---"
   ]
  },
  {
   "cell_type": "markdown",
   "id": "d7a6e00c",
   "metadata": {},
   "source": [
    "## Problem 2: Fractional Parts of Cube Roots\n",
    "\n",
    "### Use **NumPy** to calculate the constants listed at the bottom of **page 11 of the Secure Hash Standard**, following the steps below. These are the **first 32 bits of the fractional parts** of the **cube roots of the first 64 prime numbers**.\n",
    "\n",
    "### Instructions\n",
    "\n",
    "- Write a function called `primes(n)` that generates the first `n` prime numbers.\n",
    "- Use the function to calculate the **cube root** of the first 64 primes.\n",
    "- For each cube root, extract the first thirty-two bits of the fractional part.\n",
    "- Display the result in **hexadecimal**.\n",
    "- Test the results against what is in the Secure Hash Standard."
   ]
  },
  {
   "cell_type": "markdown",
   "id": "2209b6b9",
   "metadata": {},
   "source": [
    "### Solution:"
   ]
  },
  {
   "cell_type": "markdown",
   "id": "9c40aca0",
   "metadata": {},
   "source": [
    "In the Secure Hash Standard, a sequence of 64 constant values is used during the compression function. These constants are derived from the **first 32 bits of the fractional parts of the cube roots** of the first 64 prime numbers (as defined in section 4.2.2 of the standard).\n",
    "\n",
    "This problem walks through how to compute these constants programmatically using NumPy, and verify that they match the official values provided by NIST."
   ]
  },
  {
   "cell_type": "markdown",
   "id": "2b63809a",
   "metadata": {},
   "source": [
    "We begin by implementing the `primes(n)` function, which generates the first `n` prime numbers.\n",
    "\n",
    "For this, I use a basic trial division approach, which is efficient for small values of `n` (such as the first 64 primes). For significantly larger values of `n`, a more advanced algorithm like the **Sieve of Eratosthenes** would be more appropriate.\n",
    "\n",
    "This implementation handles **edge cases** such as `n ≤ 0`, and includes a **performance optimization:** it skips all even numbers after 2. Additionally, it only checks for divisibility using previously found primes, up to the square root of the candidate number, reducing unnecessary computations."
   ]
  },
  {
   "cell_type": "code",
   "execution_count": 104,
   "id": "1a8e22e6",
   "metadata": {},
   "outputs": [],
   "source": [
    "def primes(n):\n",
    "    \"\"\"\n",
    "    Generates the first n prime numbers using a simple trial division method.\n",
    "    \n",
    "    Parameters:\n",
    "        n (int): The number of prime numbers to generate\n",
    "        \n",
    "    Returns:\n",
    "        list: A list containing the first n prime numbers\n",
    "    \"\"\"\n",
    "    if n <= 0:\n",
    "        return [] # Return an empty list for non-positive input\n",
    "\n",
    "    prime_list = [2] # List to store prime numbers starting with the first prime\n",
    "    candidate = 3 # Start checking for primes from the first odd prime number\n",
    "\n",
    "    # While loop until we have n primes\n",
    "    while len(prime_list) < n:\n",
    "        is_prime = True # Assume candidate is prime until proven otherwise\n",
    "        for p in prime_list: # Check divisibility with known primes\n",
    "            if p * p > candidate: \n",
    "                break # No need to check further if p^2 exceeds candidate\n",
    "            if candidate % p == 0:\n",
    "                is_prime = False # Found a divisor, not prime\n",
    "                break\n",
    "        \n",
    "        if is_prime:\n",
    "            prime_list.append(candidate) # Add candidate to the list if it's prime\n",
    "        \n",
    "        candidate += 2 # Odd numbers only, skip even numbers\n",
    "\n",
    "    return prime_list # Return the list of prime numbers"
   ]
  },
  {
   "cell_type": "markdown",
   "id": "f744e1be",
   "metadata": {},
   "source": [
    "Next, we generate the **first 64 prime numbers** using the `primes(n)` function."
   ]
  },
  {
   "cell_type": "code",
   "execution_count": 105,
   "id": "ea336861",
   "metadata": {},
   "outputs": [],
   "source": [
    "# Generate the first 64 prime numbers\n",
    "first_64_primes = primes(64)"
   ]
  },
  {
   "cell_type": "markdown",
   "id": "1b188bd0",
   "metadata": {},
   "source": [
    "For each prime number, we calculate the **cube root**, extract its **fractional part**, and multiply it by $2^{32}$ to obtain the first **32 bits** of the fractional part.\n",
    "\n",
    "These 32-bit values correspond to the **SHA-256 constants** defined in the Secure Hash Standard."
   ]
  },
  {
   "cell_type": "code",
   "execution_count": 106,
   "id": "1511be82",
   "metadata": {},
   "outputs": [],
   "source": [
    "sha256_constants = [] # List to store the K constants\n",
    "\n",
    "for prime in first_64_primes: \n",
    "    cube_root = np.cbrt(prime) # Calculate the cube root\n",
    "    fractional_part = cube_root - np.floor(cube_root) # Extract the fractional part\n",
    "    bits32 = np.uint32(fractional_part * (2**32)) # Scale to 32 bits\n",
    "    sha256_constants.append(bits32) # Append to the constants list"
   ]
  },
  {
   "cell_type": "markdown",
   "id": "67866d85",
   "metadata": {},
   "source": [
    "Finally, we display the constants in **hexadecimal format**, grouped in sets of 8, as shown in the *Secure Hash Standard*."
   ]
  },
  {
   "cell_type": "code",
   "execution_count": 107,
   "id": "2046f5dd",
   "metadata": {},
   "outputs": [
    {
     "name": "stdout",
     "output_type": "stream",
     "text": [
      "0x428a2f98, 0x71374491, 0xb5c0fbcf, 0xe9b5dba5, 0x3956c25b, 0x59f111f1, 0x923f82a4, 0xab1c5ed5\n",
      "0xd807aa98, 0x12835b01, 0x243185be, 0x550c7dc3, 0x72be5d74, 0x80deb1fe, 0x9bdc06a7, 0xc19bf174\n",
      "0xe49b69c1, 0xefbe4786, 0x0fc19dc6, 0x240ca1cc, 0x2de92c6f, 0x4a7484aa, 0x5cb0a9dc, 0x76f988da\n",
      "0x983e5152, 0xa831c66d, 0xb00327c8, 0xbf597fc7, 0xc6e00bf3, 0xd5a79147, 0x06ca6351, 0x14292967\n",
      "0x27b70a85, 0x2e1b2138, 0x4d2c6dfc, 0x53380d13, 0x650a7354, 0x766a0abb, 0x81c2c92e, 0x92722c85\n",
      "0xa2bfe8a1, 0xa81a664b, 0xc24b8b70, 0xc76c51a3, 0xd192e819, 0xd6990624, 0xf40e3585, 0x106aa070\n",
      "0x19a4c116, 0x1e376c08, 0x2748774c, 0x34b0bcb5, 0x391c0cb3, 0x4ed8aa4a, 0x5b9cca4f, 0x682e6ff3\n",
      "0x748f82ee, 0x78a5636f, 0x84c87814, 0x8cc70208, 0x90befffa, 0xa4506ceb, 0xbef9a3f7, 0xc67178f2\n"
     ]
    }
   ],
   "source": [
    "# Display constants in hexadecimal format (8 per line)\n",
    "for i in range(0, 64, 8):\n",
    "    print(', '.join(f\"0x{k:08x}\" for k in sha256_constants[i:i+8])) # Display in hex format"
   ]
  },
  {
   "cell_type": "markdown",
   "id": "c0a3c180",
   "metadata": {},
   "source": [
    "The following test verifies that the calculated SHA-256 K constants exactly match the official constants listed in the Secure Hash Standard documentation.  \n",
    "Passing this test ensures the correctness of the constants used in our SHA-256 implementation."
   ]
  },
  {
   "cell_type": "code",
   "execution_count": 108,
   "id": "bdaa0088",
   "metadata": {},
   "outputs": [
    {
     "name": "stdout",
     "output_type": "stream",
     "text": [
      "Test passed: SHA-256 K constants match the official values.\n"
     ]
    }
   ],
   "source": [
    "def test_sha256_constants():\n",
    "    \"\"\"\n",
    "    Test that the SHA-256 K constants match the official constants\n",
    "    as specified in the SHA-256 standard.\n",
    "    \"\"\"\n",
    "    official_constants = [\n",
    "        0x428a2f98, 0x71374491, 0xb5c0fbcf, 0xe9b5dba5, 0x3956c25b, 0x59f111f1, 0x923f82a4, 0xab1c5ed5,\n",
    "        0xd807aa98, 0x12835b01, 0x243185be, 0x550c7dc3, 0x72be5d74, 0x80deb1fe, 0x9bdc06a7, 0xc19bf174,\n",
    "        0xe49b69c1, 0xefbe4786, 0x0fc19dc6, 0x240ca1cc, 0x2de92c6f, 0x4a7484aa, 0x5cb0a9dc, 0x76f988da,\n",
    "        0x983e5152, 0xa831c66d, 0xb00327c8, 0xbf597fc7, 0xc6e00bf3, 0xd5a79147, 0x06ca6351, 0x14292967,\n",
    "        0x27b70a85, 0x2e1b2138, 0x4d2c6dfc, 0x53380d13, 0x650a7354, 0x766a0abb, 0x81c2c92e, 0x92722c85,\n",
    "        0xa2bfe8a1, 0xa81a664b, 0xc24b8b70, 0xc76c51a3, 0xd192e819, 0xd6990624, 0xf40e3585, 0x106aa070,\n",
    "        0x19a4c116, 0x1e376c08, 0x2748774c, 0x34b0bcb5, 0x391c0cb3, 0x4ed8aa4a, 0x5b9cca4f, 0x682e6ff3,\n",
    "        0x748f82ee, 0x78a5636f, 0x84c87814, 0x8cc70208, 0x90befffa, 0xa4506ceb, 0xbef9a3f7, 0xc67178f2\n",
    "    ]\n",
    "\n",
    "    assert sha256_constants == official_constants, \"SHA-256 K constants do not match official values\"\n",
    "    print(\"Test passed: SHA-256 K constants match the official values.\")\n",
    "\n",
    "# Run the test\n",
    "test_sha256_constants()"
   ]
  },
  {
   "cell_type": "markdown",
   "id": "710293ec",
   "metadata": {},
   "source": [
    "---"
   ]
  },
  {
   "cell_type": "markdown",
   "id": "ee4fdfaf",
   "metadata": {},
   "source": [
    "## Problem 3: Padding\n",
    "\n",
    "### Instructions\n",
    "\n",
    "- Write a generator function `block_parse(msg)` that processes messages according to section 5.1.1 and 5.2.1 of the Secure Hash Standard. \n",
    "- The function should accept a bytes object called `msg`. \n",
    "- At each iteration, it should yield the next 512-bit block of `msg` as a bytes object. \n",
    "- Ensure that the final block (or final two blocks) include the required padding of `msg` as specified in the standard. \n",
    "- Test the generator with messages of different lengths to confirm proper padding and block output."
   ]
  },
  {
   "cell_type": "markdown",
   "id": "caa91303",
   "metadata": {},
   "source": [
    "### Solution:"
   ]
  },
  {
   "cell_type": "markdown",
   "id": "de602b12",
   "metadata": {},
   "source": [
    "SHA algorithms operate on fixed-size blocks of data (512 bits for SHA-256). Before hashing, messages must be padded according to rules defined in sections 5.1.1 and 5.2.1 of the Secure Hash Standard. This ensures the final message length is compatible with the algorithm’s block size requirements.\n",
    "\n",
    "The goal of this problem is to implement a generator function, `block_parse(msg)`, that yields successive 512-bit (64-byte) blocks from the input message, correctly applying the necessary padding. This includes appending a '1' bit, enough zeros, and the original message length as a 64-bit integer, ensuring the padded message is a multiple of 512 bits.\n",
    "\n",
    "This block-wise processing is critical for the SHA hashing process. Without proper padding, the message would not align with the internal structure of the SHA-256 compression function, potentially leading to incorrect hash outputs."
   ]
  },
  {
   "cell_type": "code",
   "execution_count": null,
   "id": "28df98da",
   "metadata": {},
   "outputs": [],
   "source": [
    "def block_parse(msg):\n",
    "    \"\"\"\n",
    "    Generator function that parses a message into 512-bit blocks with SHA-256 padding.\n",
    "    \n",
    "    Implements padding according to sections 5.1.1 and 5.2.1 of the Secure Hash Standard.\n",
    "    \n",
    "    Parameters:\n",
    "        msg (bytes): The input message to be parsed\n",
    "        \n",
    "    Yields:\n",
    "        bytes: Each 512-bit (64-byte) block of the padded message\n",
    "    \"\"\"\n",
    "    # Length of original message in bits\n",
    "    msg_len_bits = len(msg) * 8\n",
    "    \n",
    "    # Convert message to mutable bytearray for padding \n",
    "    padded_msg = bytearray(msg)\n",
    "    \n",
    "    # Append the '1' bit (10000000 in binary, or 0x80 in hex)\n",
    "    padded_msg.append(0x80)\n",
    "    \n",
    "    # Calculate the length mod 64 to determine padding needed to reach 56 bytes (448 bits)\n",
    "    padding_mod = len(padded_msg) % 64\n",
    "    padding_needed = (56 - padding_mod) if padding_mod <= 56 else (120 - padding_mod)\n",
    "    \n",
    "    # Append zero bytes to reach the required length before length encoding\n",
    "    padded_msg.extend([0x00] * padding_needed)\n",
    "    \n",
    "    # Append the original message length as a 64-bit big-endian integer\n",
    "    padded_msg.extend(msg_len_bits.to_bytes(8, byteorder='big'))\n",
    "    \n",
    "    # Yield successive 512-bit (64-byte) blocks\n",
    "    for i in range(0, len(padded_msg), 64):\n",
    "        yield bytes(padded_msg[i:i+64])\n"
   ]
  },
  {
   "cell_type": "markdown",
   "id": "e134be75",
   "metadata": {},
   "source": [
    "---"
   ]
  },
  {
   "cell_type": "markdown",
   "id": "458ff33a",
   "metadata": {},
   "source": [
    "## Problem 4: Hashes\n",
    "\n",
    "### Instructions\n",
    "\n",
    "- Write a function `hash(current, block)` that calculates the next hash value given the current hash value and the next message block according to section 6.2.2 SHA-256 Hash Computation on page 22 of the Secure Hash Standard."
   ]
  },
  {
   "cell_type": "markdown",
   "id": "4940a3e3",
   "metadata": {},
   "source": [
    "### Solution:"
   ]
  },
  {
   "cell_type": "code",
   "execution_count": null,
   "id": "66dd1439",
   "metadata": {},
   "outputs": [],
   "source": []
  },
  {
   "cell_type": "markdown",
   "id": "d54d9a80",
   "metadata": {},
   "source": [
    "---"
   ]
  },
  {
   "cell_type": "markdown",
   "id": "71446198",
   "metadata": {},
   "source": [
    "## Problem 5: Passwords\n",
    "\n",
    "### Instructions\n",
    "\n",
    "- The following are the SHA-256 hashes of three common passwords that have been hashed using one pass of the SHA-256 algorithm. \n",
    "- As strings, they were encoded using UTF-8. \n",
    "- Determine the passwords and explain how you found them. \n",
    "- Suggest ways in which the hashing of passwords could be improved to prevent the kind of attack you performed to find the passwords.\n",
    "\n",
    "### SHA-256 hashes \n",
    "1. 5e884898da28047151d0e56f8dc6292773603d0d6aabbdd62a11ef721d1542d8\n",
    "2. 873ac9ffea4dd04fa719e8920cd6938f0c23cd678af330939cff53c3d2855f34\n",
    "3. b03ddf3ca2e714a6548e7495e2a03f5e824eaac9837cd7f159c67b90fb4b7342"
   ]
  },
  {
   "cell_type": "markdown",
   "id": "d5a4502b",
   "metadata": {},
   "source": [
    "### Solution:"
   ]
  },
  {
   "cell_type": "code",
   "execution_count": null,
   "id": "c33a3ec8",
   "metadata": {},
   "outputs": [],
   "source": []
  },
  {
   "cell_type": "markdown",
   "id": "89c40f9f",
   "metadata": {},
   "source": [
    "---\n",
    "# End of Assessment"
   ]
  }
 ],
 "metadata": {
  "kernelspec": {
   "display_name": "Python 3",
   "language": "python",
   "name": "python3"
  },
  "language_info": {
   "codemirror_mode": {
    "name": "ipython",
    "version": 3
   },
   "file_extension": ".py",
   "mimetype": "text/x-python",
   "name": "python",
   "nbconvert_exporter": "python",
   "pygments_lexer": "ipython3",
   "version": "3.12.1"
  }
 },
 "nbformat": 4,
 "nbformat_minor": 5
}
