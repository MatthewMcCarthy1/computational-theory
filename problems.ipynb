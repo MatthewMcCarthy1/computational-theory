{
 "cells": [
  {
   "cell_type": "markdown",
   "id": "1f1b0141",
   "metadata": {},
   "source": [
    "# Computational Theory Assessment\n",
    "---"
   ]
  },
  {
   "cell_type": "code",
   "execution_count": 1,
   "id": "4bcc20f1",
   "metadata": {},
   "outputs": [],
   "source": [
    "# Import necessary libraries\n",
    "import numpy as np"
   ]
  },
  {
   "cell_type": "markdown",
   "id": "b6474404",
   "metadata": {},
   "source": [
    "## Problem 1: Binary Words and Operations\n",
    "\n",
    "### Implement the following functions in Python. Use **NumPy** to ensure that all variables and values are treated as **32-bit integers**. These functions are defined in the **Secure Hash Standard (see page 10)**.\n",
    "\n",
    "1. `Parity(x, y, z)`\n",
    "2. `Ch(x, y, z)`\n",
    "3. `Maj(x, y, z)`\n",
    "4. `Sigma0(x)` - *written as $\\Sigma_0^{256}(x)$ in the standard.*\n",
    "5. `Sigma1(x)` - *written as $\\Sigma_1^{256}(x)$ in the standard.*\n",
    "6. `sigma0(x)` - *written as $\\sigma_0^{256}(x)$ in the standard.*\n",
    "7. `sigma1(x)` - *written as $\\sigma_1^{256}(x)$ in the standard.*\n",
    "\n",
    "### Instructions\n",
    "\n",
    "- Document each function with a clear docstring\n",
    "- Explain its purpose and behaviour in Markdown\n",
    "- Test it with appropriate examples to verify correctness."
   ]
  },
  {
   "cell_type": "markdown",
   "id": "56b1fcb7",
   "metadata": {},
   "source": [
    "### Solution:"
   ]
  },
  {
   "cell_type": "markdown",
   "id": "03e9811c",
   "metadata": {},
   "source": [
    "**1. Parity(x, y, z) Function (Used in SHA-1 - deprecated)**\n",
    "\n",
    "The Parity function is a linear bitwise operation used in certain rounds of the SHA-1 hash algorithm (specifically rounds 20-39 and 60-79). It takes three 32-bit words, which we can call `x`, `y`, and `z`, and combines them by applying the XOR operation to each corresponding bit. \n",
    "\n",
    "$$\n",
    "Parity(x, y, z) = x \\oplus y \\oplus z\n",
    "$$\n",
    "\n",
    "XOR (exclusive OR) works like this: for each bit position, if the number of `1`s in that position across `x`, `y`, and `z` is **odd**, the result bit is `1`. If it is **even**, then the result bit is `0`. \n",
    "\n",
    "This function helps increase **diffusion** in the hash algorithm, meaning that small changes in input spread out and affect many bits in the output. This contributes to the security of SHA-1 by making it more resistant to certain types of cryptographic attacks.\n",
    "\n",
    "However, **SHA-1 is no longer considered secure** due to successful **collision attacks**. Beginning around 2011, major organizations started phasing it out. Today, SHA-1 is officially deprecated in favor of stronger and more secure algorithms like SHA-256 and SHA-3, neither of which use the Parity function."
   ]
  },
  {
   "cell_type": "code",
   "execution_count": 2,
   "id": "268d3b56",
   "metadata": {},
   "outputs": [],
   "source": [
    "def parity(x: int, y: int, z: int) -> np.uint32:\n",
    "    \"\"\"\n",
    "    Performs a bitwise XOR (parity function) across three 32-bit integers.\n",
    "\n",
    "    This function is used in the SHA-1 algorithm during rounds 20-39 and 60-79.\n",
    "\n",
    "    Parameters:\n",
    "        x (int): The first 32-bit integer.\n",
    "        y (int): The second 32-bit integer.\n",
    "        z (int): The third 32-bit integer.\n",
    "\n",
    "    Returns:\n",
    "        np.uint32: The result of x XOR y XOR z, as a 32-bit unsigned integer.\n",
    "    \"\"\"\n",
    "\n",
    "    # Ensure inputs are treated as 32-bit unsigned integers\n",
    "    x = np.uint32(x)\n",
    "    y = np.uint32(y)\n",
    "    z = np.uint32(z)\n",
    "\n",
    "    return x ^ y ^ z\n"
   ]
  },
  {
   "cell_type": "code",
   "execution_count": 3,
   "id": "2a07c130",
   "metadata": {},
   "outputs": [
    {
     "name": "stdout",
     "output_type": "stream",
     "text": [
      "All parity function test cases passed.\n"
     ]
    }
   ],
   "source": [
    "# Test cases to validate the Parity function\n",
    "def test_parity():\n",
    "    test_cases = [\n",
    "        # Basic tests (decimal)\n",
    "        ((0, 0, 0), 0), \n",
    "        ((1, 0, 0), 1),\n",
    "        ((1, 1, 0), 0),\n",
    "        ((1, 1, 1), 1),\n",
    "\n",
    "        # Bit pattern tests (binary)\n",
    "        ((0b1010, 0b0101, 0b1111), 0b0000),\n",
    "        ((0b1100, 0b0011, 0b0101), 0b1010),\n",
    "        ((0b1111, 0b1111, 0b1111), 0b1111),\n",
    "\n",
    "        # Full 32-bit tests (hex)\n",
    "        ((0xFFFFFFFF, 0x00000000, 0x00000000), 0xFFFFFFFF),\n",
    "        ((0xFFFFFFFF, 0xFFFFFFFF, 0x00000000), 0x00000000),\n",
    "        ((0xFFFFFFFF, 0xFFFFFFFF, 0xFFFFFFFF), 0xFFFFFFFF),\n",
    "        ((0xAAAAAAAA, 0x55555555, 0xFFFFFFFF), 0x00000000),\n",
    "\n",
    "        # Edge cases (hex)\n",
    "        ((0x00000000, 0x00000000, 0x00000000), 0x00000000),\n",
    "    ]\n",
    "\n",
    "    for (x, y, z), expected in test_cases:\n",
    "        result = parity(x, y, z)\n",
    "        assert result == expected, (\n",
    "            f\"Expected {hex(expected)}, got {hex(result)} \"\n",
    "            f\"for parity({hex(x)}, {hex(y)}, {hex(z)})\"\n",
    "        )\n",
    "\n",
    "    # Final complex value test\n",
    "    x, y, z = 0x12345678, 0x87654321, 0xDEADBEEF\n",
    "    expected = np.uint32(x) ^ np.uint32(y) ^ np.uint32(z)\n",
    "    result = parity(x, y, z)\n",
    "    assert result == expected, (\n",
    "        f\"Expected {hex(expected)}, got {hex(result)} \"\n",
    "        f\"for parity({hex(x)}, {hex(y)}, {hex(z)})\"\n",
    "    )\n",
    "\n",
    "    print(\"All parity function test cases passed.\")\n",
    "\n",
    "test_parity()"
   ]
  },
  {
   "cell_type": "markdown",
   "id": "e417ce90",
   "metadata": {},
   "source": [
    "**2. Ch(x, y, z) Function (Used in SHA-1 and all SHA-2 variants)**\n",
    "\n",
    "The Ch (Choice) function is a nonlinear bitwise operation used in both SHA-1 (specifically in rounds 0-19) and all SHA-2 variants. It takes three 32-bit (or 64-bit, depending on the SHA-2 variant) words as input: `x`, `y`, and `z`.\n",
    "\n",
    "$$\n",
    "Ch(x, y, z) = (x \\land y) \\oplus (\\lnot x \\land z)\n",
    "$$\n",
    "\n",
    "The Ch function operates as a bit selector or multiplexer:\n",
    "- For each bit position, if the bit in `x` is `1`, the function selects the corresponding bit from `y`\n",
    "- If the bit in `x` is `0`, the function selects the corresponding bit from `z`\n",
    "\n",
    "This provides important **nonlinear mixing** in the hash algorithm. Unlike the Parity function which is linear, the Ch function has nonlinear behavior that strengthens the cryptographic properties of SHA algorithms by making them more resistant to differential cryptanalysis and other attacks.\n",
    "\n",
    "Although **SHA-1 is deprecated** due to proven collision vulnerabilities, the `Ch` function remains an essential part of **SHA-2**, which is still considered secure and widely used today.\n",
    "\n",
    "The name \"Ch\" reflects its behavior as a \"chooser\" or \"selector\" between the bits of `y` and `z` based on `x`."
   ]
  },
  {
   "cell_type": "code",
   "execution_count": 4,
   "id": "8399ec46",
   "metadata": {},
   "outputs": [],
   "source": [
    "def ch(x: int, y: int, z: int) -> np.uint32:\n",
    "    \"\"\"\n",
    "    Performs the Choice function on three 32-bit integers.\n",
    "    \n",
    "    This function is used in:\n",
    "    - SHA-1 algorithm during rounds 0-19 \n",
    "    - All SHA-2 variants\n",
    "    \n",
    "    Parameters:\n",
    "        x (int): Selector 32-bit integer.\n",
    "        y (int): Bits to be selected when x bit is 1.\n",
    "        z (int): Bits to be selected when x bit is 0.\n",
    "\n",
    "    Returns:\n",
    "        np.uint32: The result of (x & y) ^ (~x & z), as a 32-bit unsigned integer.\n",
    "    \"\"\"\n",
    "    # Ensure inputs are treated as 32-bit unsigned integers\n",
    "    x = np.uint32(x)\n",
    "    y = np.uint32(y)\n",
    "    z = np.uint32(z)\n",
    "\n",
    "    return (x & y) ^ (~x & z)"
   ]
  },
  {
   "cell_type": "code",
   "execution_count": 5,
   "id": "72917a17",
   "metadata": {},
   "outputs": [
    {
     "name": "stdout",
     "output_type": "stream",
     "text": [
      "All ch function test cases passed.\n"
     ]
    }
   ],
   "source": [
    "# Test cases to validate the ch function\n",
    "def test_ch():\n",
    "    test_cases = [\n",
    "        # Basic tests (decimal)\n",
    "        ((0, 0, 0), 0), \n",
    "        ((1, 0, 0), 0),   \n",
    "        ((1, 1, 0), 1),   \n",
    "        ((1, 1, 1), 1),   \n",
    "\n",
    "        # Bit pattern tests (binary)\n",
    "        ((0b1010, 0b0101, 0b1111), 0b0101),  \n",
    "        ((0b1100, 0b0011, 0b0101), 0b0001),  \n",
    "        ((0b1111, 0b1111, 0b1111), 0b1111),  \n",
    "\n",
    "        # Full 32-bit tests (hex)\n",
    "        ((0xFFFFFFFF, 0xAAAAAAAA, 0x55555555), 0xAAAAAAAA),\n",
    "        ((0x00000000, 0xAAAAAAAA, 0x55555555), 0x55555555),\n",
    "        ((0xAAAAAAAA, 0xFFFFFFFF, 0x00000000), 0xAAAAAAAA),\n",
    "\n",
    "        # Edge cases (hex)\n",
    "        ((0x00000000, 0x00000000, 0x00000000), 0x00000000),\n",
    "    ]\n",
    "    \n",
    "    for (x, y, z), expected in test_cases:\n",
    "        result = ch(x, y, z)\n",
    "        assert result == expected, (\n",
    "            f\"Expected {hex(expected)}, got {hex(result)} \"\n",
    "            f\"for ch({hex(x)}, {hex(y)}, {hex(z)})\"\n",
    "        )\n",
    "    \n",
    "    # Complex value test\n",
    "    x, y, z = 0x12345678, 0x87654321, 0xDEADBEEF\n",
    "    expected = (np.uint32(x) & np.uint32(y)) ^ (~np.uint32(x) & np.uint32(z))\n",
    "    result = ch(x, y, z)\n",
    "    assert result == expected, (\n",
    "        f\"Expected {hex(expected)}, got {hex(result)} \"\n",
    "        f\"for ch({hex(x)}, {hex(y)}, {hex(z)})\"\n",
    "    )\n",
    "    \n",
    "    print(\"All ch function test cases passed.\")\n",
    "\n",
    "# Run the tests\n",
    "test_ch()"
   ]
  },
  {
   "cell_type": "markdown",
   "id": "7e240a39",
   "metadata": {},
   "source": [
    "**3. Maj(x, y, z) Function (Used in SHA-1 and all SHA-2 variants)**\n",
    "\n",
    "The Maj (Majority) function is a nonlinear bitwise operation used in both SHA-1 (specifically rounds 40-59) and all SHA-2 variants. It takes three 32-bit (or 64-bit, depending on the SHA-2 variant) words as input: `x`, `y`, and `z`.\n",
    "\n",
    "$$\n",
    "Maj(x, y, z) = (x \\land y) \\oplus (x \\land z) \\oplus (y \\land z)\n",
    "$$\n",
    "\n",
    "The Maj function implements a bit-wise majority vote: for each bit position, the output bit is `1` if at least two of the three input bits are `1`, otherwise it is `0`.\n",
    "\n",
    "This function provides important **nonlinear mixing** in the hash algorithm. The majority operation effectively contributes to the avalanche effect, where small changes in input bits cause widespread and complex changes in the output. This property is essential for the cryptographic strength of SHA algorithms.\n",
    "\n",
    "Although **SHA-1 is deprecated** due to collision vulnerabilities, the `Maj` function remains an essential part of **SHA-2**, which is still considered secure and widely used today.\n",
    "\n",
    "The name \"Maj\" reflects its behavior as a \"majority\" selector that chooses the most common bit value among the three inputs at each position.\n"
   ]
  },
  {
   "cell_type": "code",
   "execution_count": 6,
   "id": "8564fe30",
   "metadata": {},
   "outputs": [],
   "source": [
    "def maj(x: int, y: int, z: int) -> np.uint32:\n",
    "    \"\"\"\n",
    "    Performs the Majority function on three 32-bit integers.\n",
    "    \n",
    "    This function is used in:\n",
    "    - SHA-1 algorithm during rounds 40-59\n",
    "    - All SHA-2 variants\n",
    "    \n",
    "    Parameters:\n",
    "        x (int): The first 32-bit integer.\n",
    "        y (int): The second 32-bit integer.\n",
    "        z (int): The third 32-bit integer.\n",
    "\n",
    "    Returns:\n",
    "        np.uint32: The result of (x & y) ^ (x & z) ^ (y & z), as a 32-bit unsigned integer.\n",
    "    \"\"\"\n",
    "    # Ensure inputs are treated as 32-bit unsigned integers\n",
    "    x = np.uint32(x)\n",
    "    y = np.uint32(y)\n",
    "    z = np.uint32(z)\n",
    "    \n",
    "    return (x & y) ^ (x & z) ^ (y & z)  "
   ]
  },
  {
   "cell_type": "code",
   "execution_count": 7,
   "id": "ec1be37f",
   "metadata": {},
   "outputs": [
    {
     "name": "stdout",
     "output_type": "stream",
     "text": [
      "All maj function test cases passed.\n"
     ]
    }
   ],
   "source": [
    "# Test cases to validate the Maj function\n",
    "def test_maj():\n",
    "    test_cases = [\n",
    "        # Basic tests\n",
    "        ((0, 0, 0), 0),\n",
    "        ((1, 0, 0), 0),\n",
    "        ((1, 1, 0), 1),\n",
    "        ((1, 1, 1), 1),\n",
    "\n",
    "        # Bit pattern tests (binary)\n",
    "        ((0b1010, 0b0101, 0b1111), 0b1111),\n",
    "        ((0b1100, 0b0011, 0b0101), 0b0101),\n",
    "        ((0b1111, 0b1111, 0b1111), 0b1111),\n",
    "\n",
    "        # Full 32-bit tests (hex)\n",
    "        ((0xFFFFFFFF, 0x00000000, 0x00000000), 0x00000000),\n",
    "        ((0xFFFFFFFF, 0xFFFFFFFF, 0x00000000), 0xFFFFFFFF),\n",
    "        ((0xFFFFFFFF, 0xFFFFFFFF, 0xFFFFFFFF), 0xFFFFFFFF),\n",
    "        ((0xAAAAAAAA, 0x55555555, 0xFFFFFFFF), 0xFFFFFFFF),\n",
    "\n",
    "        # Edge cases (hex)\n",
    "        ((0x00000000, 0x00000000, 0x00000000), 0x00000000),\n",
    "    ]\n",
    "    \n",
    "    for (x, y, z), expected in test_cases:\n",
    "        result = maj(x, y, z)\n",
    "        assert result == expected, (\n",
    "            f\"Expected {hex(expected)}, got {hex(result)} \"\n",
    "            f\"for maj({hex(x)}, {hex(y)}, {hex(z)})\"\n",
    "        )\n",
    "    \n",
    "    # Complex value test\n",
    "    x, y, z = 0x12345678, 0x87654321, 0xDEADBEEF\n",
    "    expected = (np.uint32(x) & np.uint32(y)) ^ (np.uint32(x) & np.uint32(z)) ^ (np.uint32(y) & np.uint32(z))\n",
    "    result = maj(x, y, z)\n",
    "    assert result == expected, (\n",
    "        f\"Expected {hex(expected)}, got {hex(result)} \"\n",
    "        f\"for maj({hex(x)}, {hex(y)}, {hex(z)})\"\n",
    "    )\n",
    "    \n",
    "    print(\"All maj function test cases passed.\")\n",
    "\n",
    "# Run the tests\n",
    "test_maj()"
   ]
  },
  {
   "cell_type": "markdown",
   "id": "4322d26c",
   "metadata": {},
   "source": [
    "**4. Sigma0(x) Function (Used in SHA-256 and SHA-224)**\n",
    "\n",
    "The `Sigma0(x)` function is a nonlinear bitwise operation used in the SHA-256 and SHA-224 hash algorithms. It takes a single 32-bit word `x` as input.\n",
    "\n",
    "$$\n",
    "\\Sigma_0^{256}(x) = ROTR^2(x) \\oplus ROTR^{13}(x) \\oplus ROTR^{22}(x)\n",
    "$$\n",
    "\n",
    "Where `ROTR^n(x)` represents a circular right rotation of the bits in `x` by `n` positions.\n",
    "\n",
    "The function takes the input 32-bit word `x` and performs three different circular right rotations (by 2, 13, and 22 bits), then combines the results using the XOR operation. \n",
    "\n",
    "This operation provides important **nonlinear diffusion** in the hash algorithm. The combination of different rotation amounts ensures that changes in the input bits propagate widely and unpredictably throughout the output, contributing to the cryptographic strength of SHA-256 and SHA-224.\n"
   ]
  },
  {
   "cell_type": "code",
   "execution_count": 8,
   "id": "628c1a18",
   "metadata": {},
   "outputs": [],
   "source": [
    "def big_sigma0(x: int) -> np.uint32:\n",
    "    \"\"\"\n",
    "    Performs the Σ₀ function on a 32-bit word.\n",
    "\n",
    "    This function is used in:\n",
    "    - The SHA-256 compression function \n",
    "    - The SHA-224 compression function\n",
    "\n",
    "    The operation involves three circular right rotations (ROTR) of the input \n",
    "    word by 2, 13, and 22 bits, followed by a bitwise XOR of the results.\n",
    "\n",
    "    Parameters:\n",
    "        x (int): A 32-bit word.\n",
    "\n",
    "    Returns:\n",
    "        np.uint32: The result of ROTR²(x) ⊕ ROTR¹³(x) ⊕ ROTR²²(x), as a 32-bit unsigned integer.\n",
    "    \"\"\"\n",
    "    x = np.uint32(x)\n",
    "\n",
    "    # Perform the circular right rotations \n",
    "    rotr2 = np.uint32((x >> 2) | (x << 30)) # 32 - 2 = 30\n",
    "    rotr13 = np.uint32((x >> 13) | (x << 19)) # 32 - 13 = 19\n",
    "    rotr22 = np.uint32((x >> 22) | (x << 10)) # 32 - 22 = 10\n",
    "\n",
    "    return rotr2 ^ rotr13 ^ rotr22\n"
   ]
  },
  {
   "cell_type": "code",
   "execution_count": 9,
   "id": "cd365db1",
   "metadata": {},
   "outputs": [
    {
     "name": "stdout",
     "output_type": "stream",
     "text": [
      "All big_sigma0 function test cases passed.\n"
     ]
    }
   ],
   "source": [
    "# Test cases to validate the big_sigma0 function\n",
    "def test_big_sigma0():\n",
    "    test_cases = [\n",
    "        # Basic tests\n",
    "        (0x00000000, 0x00000000), # ROTR of all 0s XORed = all 0s\n",
    "        (0xFFFFFFFF, 0xFFFFFFFF), # ROTR of all 1s XORed = all 1s\n",
    "        (0x00000001, big_sigma0(0x00000001)),\n",
    "        (0x80000000, big_sigma0(0x80000000)),\n",
    "\n",
    "        # Bit pattern tests (binary)\n",
    "        (0b00000000000000000000000000001111, big_sigma0(0b00000000000000000000000000001111)),\n",
    "        (0b11110000000000000000000000000000, big_sigma0(0b11110000000000000000000000000000)),\n",
    "\n",
    "        # Hex patterns\n",
    "        (0xAAAAAAAA, big_sigma0(0xAAAAAAAA)),\n",
    "        (0x55555555, big_sigma0(0x55555555)),\n",
    "        (0xDEADBEEF, big_sigma0(0xDEADBEEF)),\n",
    "        (0x12345678, big_sigma0(0x12345678)),\n",
    "\n",
    "        # Edge case\n",
    "        (0x7FFFFFFF, big_sigma0(0x7FFFFFFF)),\n",
    "    ]\n",
    "\n",
    "    for x, expected in test_cases:\n",
    "        result = big_sigma0(x)\n",
    "        assert result == expected, (\n",
    "            f\"Expected {hex(expected)}, got {hex(result)} \"\n",
    "            f\"for big_sigma0({hex(x)})\"\n",
    "        )\n",
    "\n",
    "    print(\"All big_sigma0 function test cases passed.\")\n",
    "\n",
    "# Run the test\n",
    "test_big_sigma0()\n"
   ]
  },
  {
   "cell_type": "markdown",
   "id": "33e7a7e1",
   "metadata": {},
   "source": [
    "**5. Sigma1(x) Function (Used in SHA-256 and SHA-224)**\n",
    "\n",
    "The `Sigma1(x)` function is a nonlinear bitwise operation used in the SHA-256 and SHA-224 hash algorithms. It takes a single 32-bit word `x` as input.\n",
    "\n",
    "$$\n",
    "\\Sigma_1^{256}(x) = ROTR^6(x) \\oplus ROTR^{11}(x) \\oplus ROTR^{25}(x)\n",
    "$$\n",
    "\n",
    "Where `ROTR^n(x)` represents a circular right rotation of the bits in `x` by `n` positions.\n",
    "\n",
    "The function takes the input 32-bit word `x` and performs three different circular right rotations (by 6, 11, and 25 bits), then combines the results using the XOR operation.\n",
    "\n",
    "This operation provides important **nonlinear diffusion** in the hash algorithm. The combination of different rotation amounts ensures that changes in the input bits propagate widely and unpredictably throughout the output, contributing to the cryptographic strength of SHA-256 and SHA-224.\n"
   ]
  },
  {
   "cell_type": "code",
   "execution_count": 10,
   "id": "bef03c4e",
   "metadata": {},
   "outputs": [],
   "source": [
    "def big_sigma1(x: int) -> np.uint32:\n",
    "    \"\"\"\n",
    "    Performs the Σ₁ function on a 32-bit word.\n",
    "\n",
    "    This function is used in:\n",
    "    - The SHA-256 compression function\n",
    "    - The SHA-224 compression function\n",
    "\n",
    "    The operation involves three circular right rotations (ROTR) of the input\n",
    "    word by 6, 11, and 25 bits, followed by a bitwise XOR of the results.\n",
    "\n",
    "    Parameters:\n",
    "        x (int): A 32-bit word.\n",
    "\n",
    "    Returns:\n",
    "        np.uint32: The result of ROTR⁶(x) ⊕ ROTR¹¹(x) ⊕ ROTR²⁵(x), as a 32-bit unsigned integer.\n",
    "    \"\"\"\n",
    "    x = np.uint32(x)\n",
    "\n",
    "    # Perform the circular right rotations\n",
    "    rotr6 = np.uint32((x >> 6) | (x << 26))  # 32 - 6 = 26\n",
    "    rotr11 = np.uint32((x >> 11) | (x << 21))  # 32 - 11 = 21\n",
    "    rotr25 = np.uint32((x >> 25) | (x << 7))  # 32 - 25 = 7\n",
    "\n",
    "    return rotr6 ^ rotr11 ^ rotr25"
   ]
  },
  {
   "cell_type": "code",
   "execution_count": 11,
   "id": "03397382",
   "metadata": {},
   "outputs": [
    {
     "name": "stdout",
     "output_type": "stream",
     "text": [
      "All big_sigma1 function test cases passed.\n"
     ]
    }
   ],
   "source": [
    "# Test cases to validate the big_sigma1 function\n",
    "def test_big_sigma1():\n",
    "    test_cases = [\n",
    "        # Basic tests\n",
    "        (0x00000000, 0x00000000), # ROTR of all 0s XORed = all 0s\n",
    "        (0xFFFFFFFF, 0xFFFFFFFF), # ROTR of all 1s XORed = all 1s\n",
    "        (0x00000001, big_sigma1(0x00000001)),\n",
    "        (0x80000000, big_sigma1(0x80000000)),\n",
    "\n",
    "        # Bit pattern tests (binary)\n",
    "        (0b00000000000000000000000000001111, big_sigma1(0b00000000000000000000000000001111)),\n",
    "        (0b11110000000000000000000000000000, big_sigma1(0b11110000000000000000000000000000)),\n",
    "\n",
    "        # Hex patterns\n",
    "        (0xAAAAAAAA, big_sigma1(0xAAAAAAAA)),\n",
    "        (0x55555555, big_sigma1(0x55555555)),\n",
    "        (0xDEADBEEF, big_sigma1(0xDEADBEEF)),\n",
    "        (0x12345678, big_sigma1(0x12345678)),\n",
    "\n",
    "        # Edge case\n",
    "        (0x7FFFFFFF, big_sigma1(0x7FFFFFFF)),\n",
    "    ]\n",
    "\n",
    "    for x, expected in test_cases:\n",
    "        result = big_sigma1(x)\n",
    "        assert result == expected, (\n",
    "            f\"Expected {hex(expected)}, got {hex(result)} \"\n",
    "            f\"for big_sigma1({hex(x)})\"\n",
    "        )\n",
    "\n",
    "    print(\"All big_sigma1 function test cases passed.\")\n",
    "\n",
    "# Run the test\n",
    "test_big_sigma1()"
   ]
  },
  {
   "cell_type": "markdown",
   "id": "92342a76",
   "metadata": {},
   "source": [
    "**6. sigma0(x) Function (Used in SHA-256 and SHA-224)**\n",
    "\n",
    "The `sigma0(x)` function is a nonlinear bitwise operation used in the SHA-256 and SHA-224 hash algorithms. It operates on a single 32-bit word and is used in the message schedule.\n",
    "\n",
    "$$\n",
    "\\sigma_0^{256}(x) = ROTR^7(x) \\oplus ROTR^{18}(x) \\oplus SHR^3(x)\n",
    "$$\n",
    "\n",
    "Where `ROTR^n(x)` represents a circular right rotation of the bits in `x` by `n` positions, and `SHR^n(x)` represents a right shift of `x` by `n` positions (filling with zeros on the left).\n",
    "\n",
    "The function takes the input 32-bit word `x` and performs two circular right rotations (by 7 and 18 bits) and one right shift (by 3 bits), then XORs all three values together.\n",
    "\n",
    "This function is used in the message schedule expansion (section 6.2.2 of the Secure Hash Standard) in SHA-256 and SHA-224. It provides crucial **nonlinear diffusion** in the algorithm. The combination of rotations and shifts ensures that bit changes propagate throughout the word in complex patterns, contributing to the cryptographic strength of SHA-256.\n"
   ]
  },
  {
   "cell_type": "code",
   "execution_count": null,
   "id": "56832051",
   "metadata": {},
   "outputs": [],
   "source": [
    "def small_sigma0(x: int) -> np.uint32:\n",
    "    \"\"\"\n",
    "    Performs the σ₀ function on a 32-bit word.\n",
    "\n",
    "    This function is used in the SHA-256 and SHA-224 message schedule expansion.\n",
    "\n",
    "    The function performs two circular right rotations (ROTR) of the input\n",
    "    by 7 and 18 positions, one right shift (SHR) by 3 positions, followed \n",
    "    by a bitwise XOR of the results.\n",
    "    \n",
    "    Parameters:\n",
    "        x (int): A 32-bit word\n",
    "        \n",
    "    Returns:\n",
    "        np.uint32: The result of ROTR⁷(x) ⊕ ROTR¹⁸(x) ⊕ SHR³(x), as a 32-bit unsigned integer\n",
    "    \"\"\"\n",
    "    # Ensure input is treated as a 32-bit unsigned integer\n",
    "    x = np.uint32(x)\n",
    "    \n",
    "    # Perform circular right rotations by 7 and 18 bits\n",
    "    rotr7 = np.uint32((x >> 7) | (x << 25)) # 32 - 7 = 25\n",
    "    rotr18 = np.uint32((x >> 18) | (x << 14)) # 32 - 18 = 14\n",
    "\n",
    "    # Perform right shift by 3 bits\n",
    "    # SHR^n(x) = x >> n (fills with zeros on the left)\n",
    "    shr3 = np.uint32(x >> 3)\n",
    "    \n",
    "    # XOR all three values together\n",
    "    return rotr7 ^ rotr18 ^ shr3\n"
   ]
  },
  {
   "cell_type": "markdown",
   "id": "55efa0b3",
   "metadata": {},
   "source": [
    "---"
   ]
  },
  {
   "cell_type": "markdown",
   "id": "d7a6e00c",
   "metadata": {},
   "source": [
    "## Problem 2: Fractional Parts of Cube Roots\n",
    "\n",
    "### Use **NumPy** to calculate the constants listed at the bottom of **page 11 of the Secure Hash Standard**, following the steps below. These are the **first 32 bits of the fractional parts** of the **cube roots of the first 64 prime numbers**.\n",
    "\n",
    "### Instructions\n",
    "\n",
    "- Write a function called `primes(n)` that generates the first `n` prime numbers.\n",
    "- Use the function to calculate the **cube root** of the first 64 primes.\n",
    "- For each cube root, extract the first thirty-two bits of the fractional part.\n",
    "- Display the result in **hexadecimal**.\n",
    "- Test the results against what is in the Secure Hash Standard."
   ]
  },
  {
   "cell_type": "markdown",
   "id": "2209b6b9",
   "metadata": {},
   "source": [
    "### Solution:"
   ]
  },
  {
   "cell_type": "code",
   "execution_count": null,
   "id": "1a8e22e6",
   "metadata": {},
   "outputs": [],
   "source": []
  },
  {
   "cell_type": "markdown",
   "id": "710293ec",
   "metadata": {},
   "source": [
    "---"
   ]
  },
  {
   "cell_type": "markdown",
   "id": "ee4fdfaf",
   "metadata": {},
   "source": [
    "## Problem 3: Padding\n",
    "\n",
    "### Instructions\n",
    "\n",
    "- Write a generator function `block_parse(msg)` that processes messages according to section 5.1.1 and 5.2.1 of the Secure Hash Standard. \n",
    "- The function should accept a bytes object called `msg`. \n",
    "- At each iteration, it should yield the next 512-bit block of `msg` as a bytes object. \n",
    "- Ensure that the final block (or final two blocks) include the required padding of `msg` as specified in the standard. \n",
    "- Test the generator with messages of different lengths to confirm proper padding and block output."
   ]
  },
  {
   "cell_type": "markdown",
   "id": "caa91303",
   "metadata": {},
   "source": [
    "### Solution:"
   ]
  },
  {
   "cell_type": "code",
   "execution_count": null,
   "id": "28df98da",
   "metadata": {},
   "outputs": [],
   "source": []
  },
  {
   "cell_type": "markdown",
   "id": "e134be75",
   "metadata": {},
   "source": [
    "---"
   ]
  },
  {
   "cell_type": "markdown",
   "id": "458ff33a",
   "metadata": {},
   "source": [
    "## Problem 4: Hashes\n",
    "\n",
    "### Instructions\n",
    "\n",
    "- Write a function `hash(current, block)` that calculates the next hash value given the current hash value and the next message block according to section 6.2.2 SHA-256 Hash Computation on page 22 of the Secure Hash Standard."
   ]
  },
  {
   "cell_type": "markdown",
   "id": "4940a3e3",
   "metadata": {},
   "source": [
    "### Solution:"
   ]
  },
  {
   "cell_type": "code",
   "execution_count": null,
   "id": "66dd1439",
   "metadata": {},
   "outputs": [],
   "source": []
  },
  {
   "cell_type": "markdown",
   "id": "d54d9a80",
   "metadata": {},
   "source": [
    "---"
   ]
  },
  {
   "cell_type": "markdown",
   "id": "71446198",
   "metadata": {},
   "source": [
    "## Problem 5: Passwords\n",
    "\n",
    "### Instructions\n",
    "\n",
    "- The following are the SHA-256 hashes of three common passwords that have been hashed using one pass of the SHA-256 algorithm. \n",
    "- As strings, they were encoded using UTF-8. \n",
    "- Determine the passwords and explain how you found them. \n",
    "- Suggest ways in which the hashing of passwords could be improved to prevent the kind of attack you performed to find the passwords.\n",
    "\n",
    "### SHA-256 hashes \n",
    "1. 5e884898da28047151d0e56f8dc6292773603d0d6aabbdd62a11ef721d1542d8\n",
    "2. 873ac9ffea4dd04fa719e8920cd6938f0c23cd678af330939cff53c3d2855f34\n",
    "3. b03ddf3ca2e714a6548e7495e2a03f5e824eaac9837cd7f159c67b90fb4b7342"
   ]
  },
  {
   "cell_type": "markdown",
   "id": "d5a4502b",
   "metadata": {},
   "source": [
    "### Solution:"
   ]
  },
  {
   "cell_type": "code",
   "execution_count": null,
   "id": "c33a3ec8",
   "metadata": {},
   "outputs": [],
   "source": []
  },
  {
   "cell_type": "markdown",
   "id": "89c40f9f",
   "metadata": {},
   "source": [
    "---\n",
    "# End of Assessment"
   ]
  }
 ],
 "metadata": {
  "kernelspec": {
   "display_name": "Python 3",
   "language": "python",
   "name": "python3"
  },
  "language_info": {
   "codemirror_mode": {
    "name": "ipython",
    "version": 3
   },
   "file_extension": ".py",
   "mimetype": "text/x-python",
   "name": "python",
   "nbconvert_exporter": "python",
   "pygments_lexer": "ipython3",
   "version": "3.12.1"
  }
 },
 "nbformat": 4,
 "nbformat_minor": 5
}
