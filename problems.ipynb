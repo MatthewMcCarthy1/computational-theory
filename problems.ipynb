{
 "cells": [
  {
   "cell_type": "markdown",
   "id": "1f1b0141",
   "metadata": {},
   "source": [
    "# Computational Theory Assessment\n",
    "---"
   ]
  },
  {
   "cell_type": "code",
   "execution_count": null,
   "id": "4bcc20f1",
   "metadata": {},
   "outputs": [],
   "source": [
    "# Import necessary libraries\n",
    "import numpy as np"
   ]
  },
  {
   "cell_type": "markdown",
   "id": "b6474404",
   "metadata": {},
   "source": [
    "## Problem 1: Binary Words and Operations\n",
    "\n",
    "### Implement the following functions in Python. Use **NumPy** to ensure that all variables and values are treated as **32-bit integers**. These functions are defined in the **Secure Hash Standard (see page 10)**.\n",
    "\n",
    "1. `Parity(x, y, z)`\n",
    "2. `Ch(x, y, z)`\n",
    "3. `Maj(x, y, z)`\n",
    "4. `Sigma0(x)` - *written as $\\Sigma_0^{256}(x)$ in the standard.*\n",
    "5. `Sigma1(x)` - *written as $\\Sigma_1^{256}(x)$ in the standard.*\n",
    "6. `sigma0(x)` - *written as $\\sigma_0^{256}(x)$ in the standard.*\n",
    "7. `sigma1(x)` - *written as $\\sigma_1^{256}(x)$ in the standard.*\n",
    "\n",
    "### Instructions\n",
    "\n",
    "- Document each function with a clear docstring\n",
    "- Explain its purpose and behaviour in Markdown\n",
    "- Test it with appropriate examples to verify correctness."
   ]
  },
  {
   "cell_type": "markdown",
   "id": "56b1fcb7",
   "metadata": {},
   "source": [
    "### Solution:"
   ]
  },
  {
   "cell_type": "code",
   "execution_count": null,
   "id": "268d3b56",
   "metadata": {},
   "outputs": [],
   "source": []
  },
  {
   "cell_type": "markdown",
   "id": "55efa0b3",
   "metadata": {},
   "source": [
    "---"
   ]
  },
  {
   "cell_type": "markdown",
   "id": "d7a6e00c",
   "metadata": {},
   "source": [
    "## Problem 2: Fractional Parts of Cube Roots\n",
    "\n",
    "### Use **NumPy** to calculate the constants listed at the bottom of **page 11 of the Secure Hash Standard**, following the steps below. These are the **first 32 bits of the fractional parts** of the **cube roots of the first 64 prime numbers**.\n",
    "\n",
    "1. Write a function called `primes(n)` that generates the first `n` prime numbers.\n",
    "2. Use the function to calculate the **cube root** of the first 64 primes.\n",
    "3. For each cube root, extract the first thirty-two bits of the fractional part.\n",
    "4. Display the result in **hexadecimal**.\n",
    "5. Test the results against what is in the Secure Hash Standard."
   ]
  },
  {
   "cell_type": "markdown",
   "id": "2209b6b9",
   "metadata": {},
   "source": [
    "### Solution:"
   ]
  },
  {
   "cell_type": "code",
   "execution_count": null,
   "id": "1a8e22e6",
   "metadata": {},
   "outputs": [],
   "source": []
  },
  {
   "cell_type": "markdown",
   "id": "710293ec",
   "metadata": {},
   "source": [
    "---"
   ]
  },
  {
   "cell_type": "markdown",
   "id": "ee4fdfaf",
   "metadata": {},
   "source": [
    "## Problem 3: Padding\n",
    "\n",
    "- Write a generator function `block_parse(msg)` that processes messages according to section 5.1.1 and 5.2.1 of the Secure Hash Standard. \n",
    "- The function should accept a bytes object called `msg`. \n",
    "- At each iteration, it should yield the next 512-bit block of `msg` as a bytes object. \n",
    "- Ensure that the final block (or final two blocks) include the required padding of `msg` as specified in the standard. \n",
    "- Test the generator with messages of different lengths to confirm proper padding and block output."
   ]
  },
  {
   "cell_type": "markdown",
   "id": "caa91303",
   "metadata": {},
   "source": [
    "### Solution:"
   ]
  },
  {
   "cell_type": "code",
   "execution_count": null,
   "id": "28df98da",
   "metadata": {},
   "outputs": [],
   "source": []
  },
  {
   "cell_type": "markdown",
   "id": "e134be75",
   "metadata": {},
   "source": [
    "---"
   ]
  },
  {
   "cell_type": "markdown",
   "id": "458ff33a",
   "metadata": {},
   "source": [
    "## Problem 4: Hashes\n",
    "\n",
    "### Write a function `hash(current, block)` that calculates the next hash value given the current hash value and the next message block according to section 6.2.2 SHA-256 Hash Computation on page 22 of the Secure Hash Standard."
   ]
  },
  {
   "cell_type": "markdown",
   "id": "4940a3e3",
   "metadata": {},
   "source": [
    "### Solution:"
   ]
  },
  {
   "cell_type": "code",
   "execution_count": null,
   "id": "66dd1439",
   "metadata": {},
   "outputs": [],
   "source": []
  },
  {
   "cell_type": "markdown",
   "id": "d54d9a80",
   "metadata": {},
   "source": [
    "---"
   ]
  },
  {
   "cell_type": "markdown",
   "id": "71446198",
   "metadata": {},
   "source": [
    "## Problem 5: Passwords\n",
    "\n",
    "### The following are the SHA-256 hashes of three common passwords that have been hashed using one pass of the SHA-256 algorithm. As strings, they were encoded using UTF-8. Determine the passwords and explain how you found them. Suggest ways in which the hashing of passwords could be improved to prevent the kind of attack you performed to find the passwords.\n",
    "\n",
    "1. 5e884898da28047151d0e56f8dc6292773603d0d6aabbdd62a11ef721d1542d8\n",
    "2. 873ac9ffea4dd04fa719e8920cd6938f0c23cd678af330939cff53c3d2855f34\n",
    "3. b03ddf3ca2e714a6548e7495e2a03f5e824eaac9837cd7f159c67b90fb4b7342"
   ]
  },
  {
   "cell_type": "markdown",
   "id": "d5a4502b",
   "metadata": {},
   "source": [
    "### Solution:"
   ]
  },
  {
   "cell_type": "code",
   "execution_count": null,
   "id": "c33a3ec8",
   "metadata": {},
   "outputs": [],
   "source": []
  },
  {
   "cell_type": "markdown",
   "id": "89c40f9f",
   "metadata": {},
   "source": [
    "---\n",
    "# End of Assessment"
   ]
  }
 ],
 "metadata": {
  "kernelspec": {
   "display_name": "Python 3",
   "language": "python",
   "name": "python3"
  },
  "language_info": {
   "codemirror_mode": {
    "name": "ipython",
    "version": 3
   },
   "file_extension": ".py",
   "mimetype": "text/x-python",
   "name": "python",
   "nbconvert_exporter": "python",
   "pygments_lexer": "ipython3",
   "version": "3.12.1"
  }
 },
 "nbformat": 4,
 "nbformat_minor": 5
}
